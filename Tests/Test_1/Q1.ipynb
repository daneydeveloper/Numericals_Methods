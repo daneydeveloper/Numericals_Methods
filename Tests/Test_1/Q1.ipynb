{
 "cells": [
  {
   "cell_type": "markdown",
   "metadata": {
    "colab_type": "text",
    "id": "baVdIPRMh9GF"
   },
   "source": [
    "# Importações"
   ]
  },
  {
   "cell_type": "code",
   "execution_count": 1,
   "metadata": {
    "colab": {},
    "colab_type": "code",
    "id": "pkHGbbT5hvLm"
   },
   "outputs": [],
   "source": [
    "import numpy as np\n",
    "from math import sqrt"
   ]
  },
  {
   "cell_type": "markdown",
   "metadata": {
    "colab_type": "text",
    "id": "bYkQP1HViCQe"
   },
   "source": [
    "# Variáveis"
   ]
  },
  {
   "cell_type": "code",
   "execution_count": 2,
   "metadata": {
    "colab": {},
    "colab_type": "code",
    "id": "zfxQ3YfziDhB"
   },
   "outputs": [],
   "source": [
    "a,b,c,d,e,f = [3,6,2,9,4,9]"
   ]
  },
  {
   "cell_type": "code",
   "execution_count": 3,
   "metadata": {
    "colab": {},
    "colab_type": "code",
    "id": "nkICAkjliFVT"
   },
   "outputs": [],
   "source": [
    "A = [[95, 10, 0, 5, 2],\n",
    "     [10, 45, 10, 7, 4],\n",
    "     [0, 10, 30,  9, 1],\n",
    "     [5, 7, 9, 20, 0.5],\n",
    "     [2, 4, 1, 0.5, 80]]\n",
    "\n",
    "x = [1,1,1,1,1]\n",
    "tolerancia = 0.000000000001"
   ]
  },
  {
   "cell_type": "code",
   "execution_count": null,
   "metadata": {
    "colab": {},
    "colab_type": "code",
    "id": "n6h3D3BB5fOQ"
   },
   "outputs": [],
   "source": []
  },
  {
   "cell_type": "markdown",
   "metadata": {
    "colab_type": "text",
    "id": "6EgNsJCGiJO8"
   },
   "source": [
    "# Operações Básicas"
   ]
  },
  {
   "cell_type": "code",
   "execution_count": 4,
   "metadata": {
    "colab": {},
    "colab_type": "code",
    "id": "TXUhvinmiHky"
   },
   "outputs": [],
   "source": [
    "def norm2(x):\n",
    "    value = 0\n",
    "    for i in x:\n",
    "        value += i*i\n",
    "    return sqrt(value)"
   ]
  },
  {
   "cell_type": "code",
   "execution_count": 5,
   "metadata": {
    "colab": {},
    "colab_type": "code",
    "id": "-eNNPRrXiQJG"
   },
   "outputs": [],
   "source": [
    "def matrixByVector(a,b):\n",
    "    n = len(a)\n",
    "    vector = []\n",
    "    for i in range(n):\n",
    "        som = 0.0\n",
    "        for j in range(n):\n",
    "            som += a[i][j] * b[j] \n",
    "        vector.append(som)\n",
    "    return vector"
   ]
  },
  {
   "cell_type": "code",
   "execution_count": 6,
   "metadata": {
    "colab": {},
    "colab_type": "code",
    "id": "njgtmzOeiQTx"
   },
   "outputs": [],
   "source": [
    "def vectorByVector(a,b):\n",
    "    n = len(a)\n",
    "    som = 0\n",
    "    for i in range(n):\n",
    "        som += a[i] * b[i]\n",
    "    return som"
   ]
  },
  {
   "cell_type": "code",
   "execution_count": 7,
   "metadata": {
    "colab": {},
    "colab_type": "code",
    "id": "YMVT9PxQiQh0"
   },
   "outputs": [],
   "source": [
    "def div(a,b):\n",
    "    n = len(a)\n",
    "    vec = [0 for i in range(n)]\n",
    "    for i in range(n):\n",
    "        vec[i] = a[i]/b\n",
    "    return vec"
   ]
  },
  {
   "cell_type": "code",
   "execution_count": 8,
   "metadata": {
    "colab": {},
    "colab_type": "code",
    "id": "OqpaRvvqGm52"
   },
   "outputs": [],
   "source": [
    "def decomposicaoLU(A):\n",
    "    n = len(A)\n",
    "    L = [[0 for j in range(n)] for i in range(n)]\n",
    "    U = [[A[i][j] for j in range(n)] for i in range(n)]\n",
    "    for i in range(n):\n",
    "        L[i][i] = 1\n",
    "    for j in range(n-1):\n",
    "        for i in range(j+1, n):\n",
    "            L[i][j] = U[i][j]/U[j][j]\n",
    "            for k in range(j+1, n):\n",
    "                U[i][k] -= L[i][j] * U[j][k]\n",
    "            U[i][j] = 0\n",
    "    return [L, U]"
   ]
  },
  {
   "cell_type": "code",
   "execution_count": 9,
   "metadata": {
    "colab": {},
    "colab_type": "code",
    "id": "QFsxrvKDHTc7"
   },
   "outputs": [],
   "source": [
    "# L(Ux) = b; Ux = y\n",
    "def solverLU(A, b):\n",
    "    n = len(A)\n",
    "    L, U = decomposicaoLU(A)\n",
    "    \n",
    "    # Finding y for Ly = b\n",
    "    y = [i for i in b]\n",
    "    for i in range(n):\n",
    "        for j in range(0,i):\n",
    "            y[i] -= L[i][j] * y[j]\n",
    "    \n",
    "    # Finding x for Ux = y\n",
    "    x = [i for i in y]\n",
    "    for i in range(n-1,-1,-1):\n",
    "        for j in range(n-1,i,-1):\n",
    "            x[i] -= U[i][j] * x[j]\n",
    "        x[i] = x[i]/U[i][i]\n",
    "    \n",
    "    return x"
   ]
  },
  {
   "cell_type": "markdown",
   "metadata": {
    "colab_type": "text",
    "id": "trJAaOSpiVno"
   },
   "source": [
    "# Método da Potência Regular"
   ]
  },
  {
   "cell_type": "code",
   "execution_count": 10,
   "metadata": {
    "colab": {},
    "colab_type": "code",
    "id": "_s51PEpliURU"
   },
   "outputs": [],
   "source": [
    "def potenciaRegular(A, e, x0):\n",
    "    lamb_new = 0\n",
    "    x_old = div(x0,norm2(x0)) # Normalização\n",
    "    iterations = 0\n",
    "    while True:\n",
    "        iterations += 1\n",
    "        lamb_old = lamb_new\n",
    "        y_new = matrixByVector(A, x_old)\n",
    "        x_new = div(y_new,norm2(y_new)) # Normalização\n",
    "        lamb_new  = vectorByVector(x_old, y_new)\n",
    "        x_old = x_new\n",
    "        if(abs((lamb_new - lamb_old) / lamb_new) <= e):\n",
    "            break\n",
    "    print(f\"Potência Regular - Iterações {iterations}\")\n",
    "    return [lamb_new, x_new]"
   ]
  },
  {
   "cell_type": "markdown",
   "metadata": {
    "colab_type": "text",
    "id": "65lsFRlvilHe"
   },
   "source": [
    "# Método da Potência Inversa"
   ]
  },
  {
   "cell_type": "code",
   "execution_count": 11,
   "metadata": {
    "colab": {},
    "colab_type": "code",
    "id": "tta-FsmkiYbB"
   },
   "outputs": [],
   "source": [
    "def potenciaInversa(A, e ,x0):\n",
    "    lamb_new = 0\n",
    "    x_old = div(x0,norm2(x0))\n",
    "    iterations = 0\n",
    "    while True:\n",
    "        iterations += 1\n",
    "        lamb_old = lamb_new\n",
    "        y_new = solverLU(A,x_old)\n",
    "        x_new = div(y_new,norm2(y_new))\n",
    "        lamb_new = vectorByVector(x_old,y_new)\n",
    "        x_old = x_new\n",
    "        if(abs((lamb_new - lamb_old) / lamb_new) <= e):\n",
    "            break\n",
    "    print(f\"Potência Inversa - Iterações {iterations}\")\n",
    "    return [1/lamb_new, x_new]"
   ]
  },
  {
   "cell_type": "markdown",
   "metadata": {
    "colab_type": "text",
    "id": "C32lSAWNiorp"
   },
   "source": [
    "# Resultados"
   ]
  },
  {
   "cell_type": "code",
   "execution_count": 12,
   "metadata": {
    "colab": {
     "base_uri": "https://localhost:8080/",
     "height": 51
    },
    "colab_type": "code",
    "executionInfo": {
     "elapsed": 709,
     "status": "ok",
     "timestamp": 1562158620359,
     "user": {
      "displayName": "Daniel Nogueira",
      "photoUrl": "",
      "userId": "00824541409552341256"
     },
     "user_tz": 180
    },
    "id": "QwzgKGRPiqxG",
    "outputId": "124c72d9-d2d1-4997-e9e4-770adc69c328"
   },
   "outputs": [
    {
     "name": "stdout",
     "output_type": "stream",
     "text": [
      "Potência Regular - Iterações 61\n",
      "Potência Inversa - Iterações 25\n"
     ]
    }
   ],
   "source": [
    "maior_autoval, maior_autovec = potenciaRegular(A, tolerancia, x)\n",
    "menor_autoval, menor_autovec = potenciaInversa(A, tolerancia, x)"
   ]
  },
  {
   "cell_type": "code",
   "execution_count": 13,
   "metadata": {
    "colab": {
     "base_uri": "https://localhost:8080/",
     "height": 68
    },
    "colab_type": "code",
    "executionInfo": {
     "elapsed": 676,
     "status": "ok",
     "timestamp": 1562158620360,
     "user": {
      "displayName": "Daniel Nogueira",
      "photoUrl": "",
      "userId": "00824541409552341256"
     },
     "user_tz": 180
    },
    "id": "nb0y3KENi8A3",
    "outputId": "a514cd65-1967-495d-dd94-6524369f8128"
   },
   "outputs": [
    {
     "name": "stdout",
     "output_type": "stream",
     "text": [
      "k(A) = 6.777242308995552.\n",
      "max(Lambda) = 98.0035434686463 - Autovetor = [0.9591071260327964, 0.2129133569004404, 0.045132935419576234, 0.08681030816216743, 0.1587715710815304]\n",
      "min(Lambda) = 14.460681646067824 - Autovetor = [-0.05127607199596006, -0.02287396934895764, -0.4895107705877658, 0.8701795094429609, 0.003791146405478218]\n"
     ]
    }
   ],
   "source": [
    "print(f\"k(A) = {maior_autoval/menor_autoval}.\")\n",
    "print(f\"max(Lambda) = {maior_autoval} - Autovetor = {maior_autovec}\")\n",
    "print(f\"min(Lambda) = {menor_autoval} - Autovetor = {menor_autovec}\")"
   ]
  },
  {
   "cell_type": "code",
   "execution_count": null,
   "metadata": {},
   "outputs": [],
   "source": []
  }
 ],
 "metadata": {
  "colab": {
   "collapsed_sections": [],
   "name": "Questão 1.ipynb",
   "provenance": [],
   "version": "0.3.2"
  },
  "kernelspec": {
   "display_name": "Python 3",
   "language": "python",
   "name": "python3"
  },
  "language_info": {
   "codemirror_mode": {
    "name": "ipython",
    "version": 3
   },
   "file_extension": ".py",
   "mimetype": "text/x-python",
   "name": "python",
   "nbconvert_exporter": "python",
   "pygments_lexer": "ipython3",
   "version": "3.7.3"
  }
 },
 "nbformat": 4,
 "nbformat_minor": 1
}
