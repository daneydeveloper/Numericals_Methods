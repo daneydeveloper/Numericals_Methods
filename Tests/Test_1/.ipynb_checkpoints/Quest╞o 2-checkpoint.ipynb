{
 "cells": [
  {
   "cell_type": "markdown",
   "metadata": {
    "colab_type": "text",
    "id": "baVdIPRMh9GF"
   },
   "source": [
    "# Importações"
   ]
  },
  {
   "cell_type": "code",
   "execution_count": 1,
   "metadata": {
    "colab": {},
    "colab_type": "code",
    "id": "pkHGbbT5hvLm"
   },
   "outputs": [],
   "source": [
    "import numpy as np\n",
    "from math import sqrt\n",
    "from math import pi as PI\n",
    "from math import atan\n",
    "from math import sin\n",
    "from math import cos"
   ]
  },
  {
   "cell_type": "markdown",
   "metadata": {
    "colab_type": "text",
    "id": "bYkQP1HViCQe"
   },
   "source": [
    "# Variáveis"
   ]
  },
  {
   "cell_type": "code",
   "execution_count": 2,
   "metadata": {
    "colab": {},
    "colab_type": "code",
    "id": "zfxQ3YfziDhB"
   },
   "outputs": [],
   "source": [
    "a,b,c,d,e,f = [3,6,2,9,4,9]\n",
    "tolerancia = 0.00001"
   ]
  },
  {
   "cell_type": "code",
   "execution_count": 3,
   "metadata": {
    "colab": {},
    "colab_type": "code",
    "id": "nkICAkjliFVT"
   },
   "outputs": [],
   "source": [
    "A = [[95, 10, 0, 5, 2],\n",
    "     [10, 45, 10, 7, 4],\n",
    "     [0, 10, 30,  9, 1],\n",
    "     [5, 7, 9, 20, 0.5],\n",
    "     [2, 4, 1, 0.5, 80]]\n",
    "\n",
    "x = [1,1,1,1,1]"
   ]
  },
  {
   "cell_type": "markdown",
   "metadata": {
    "colab_type": "text",
    "id": "6EgNsJCGiJO8"
   },
   "source": [
    "# Operações Básicas"
   ]
  },
  {
   "cell_type": "code",
   "execution_count": 4,
   "metadata": {
    "colab": {},
    "colab_type": "code",
    "id": "ztbs1bR639uA"
   },
   "outputs": [],
   "source": [
    "def matrixByMatrix(a,b):\n",
    "    na = len(a)\n",
    "    ma = len(a[0])\n",
    "    nb = len(b)\n",
    "    mb = len(b[0])\n",
    "    \n",
    "    mid = min(ma, nb)\n",
    "    \n",
    "    if ma != nb:\n",
    "        raise Exception('Matrix Error!')\n",
    "    \n",
    "    c = [[0 for j in range(mb)] for i in range(na)]\n",
    "    \n",
    "    for i in range(na):\n",
    "        for j in range(mb):\n",
    "            for k in range(mid):\n",
    "                c[i][j] += a[i][k] * b[k][j]\n",
    "    \n",
    "    return c"
   ]
  },
  {
   "cell_type": "code",
   "execution_count": 5,
   "metadata": {
    "colab": {},
    "colab_type": "code",
    "id": "V8JEAtRx39uC"
   },
   "outputs": [],
   "source": [
    "def matrixLHNorm2(a):\n",
    "    n = len(a)\n",
    "    m = len(a[0])\n",
    "    soma = 0.0\n",
    "    for j in range(m-1):\n",
    "        for i in range(j+1,n):\n",
    "            soma += a[i][j] * a[i][j]\n",
    "    return soma"
   ]
  },
  {
   "cell_type": "code",
   "execution_count": 6,
   "metadata": {
    "colab": {},
    "colab_type": "code",
    "id": "RzVjoCn2HhMH"
   },
   "outputs": [],
   "source": [
    "def Identidade(n,m):\n",
    "    I = [[0 for i in range(m)] for j in range(n)]\n",
    "    for i in range(min(n,m)):\n",
    "        I[i][i] = 1\n",
    "    return I"
   ]
  },
  {
   "cell_type": "code",
   "execution_count": 7,
   "metadata": {
    "colab": {},
    "colab_type": "code",
    "id": "or92cWwr39uI"
   },
   "outputs": [],
   "source": [
    "def Transposta(A):\n",
    "    n = len(A)\n",
    "    m = len(A[0])\n",
    "    \n",
    "    B = [[0 for j in range(n)] for i in range(m)]\n",
    "    for i in range(n):\n",
    "        for j in range(m):\n",
    "            B[j][i] = A[i][j]\n",
    "    return B"
   ]
  },
  {
   "cell_type": "code",
   "execution_count": 8,
   "metadata": {
    "colab": {},
    "colab_type": "code",
    "id": "xPSMfOtA39uK"
   },
   "outputs": [],
   "source": [
    "def printMatrix(A):\n",
    "    for i in A:\n",
    "        for j in i:\n",
    "            s = \"%.5f\" % j\n",
    "            print(\"%8s\" % s, end = \" \")\n",
    "        print()"
   ]
  },
  {
   "cell_type": "code",
   "execution_count": 9,
   "metadata": {
    "colab": {},
    "colab_type": "code",
    "id": "WM86-pYh8GAN"
   },
   "outputs": [],
   "source": [
    "def inverterVetores(A,mult):\n",
    "  n = len(A)\n",
    "  m = len(A[0])\n",
    "  for i in range(n):\n",
    "    for j in range(m):\n",
    "      A[i][j] = mult[j] * A[i][j]\n",
    "  return A"
   ]
  },
  {
   "cell_type": "markdown",
   "metadata": {
    "colab_type": "text",
    "id": "trJAaOSpiVno"
   },
   "source": [
    "# Método Jacobi"
   ]
  },
  {
   "cell_type": "code",
   "execution_count": 10,
   "metadata": {
    "colab": {},
    "colab_type": "code",
    "id": "_s51PEpliURU"
   },
   "outputs": [],
   "source": [
    "def metodoJacobi(A, e):\n",
    "    n = len(A)\n",
    "    m = len(A[0])\n",
    "    tol = 0.000000000001\n",
    "    \n",
    "    var_norm = e + 1\n",
    "    \n",
    "    J = Identidade(n,m)\n",
    "    A_new = [[j for j in i] for i in A]\n",
    "    \n",
    "    while var_norm > e:\n",
    "        for j in range(0,n-1):\n",
    "            for i in range(j+1,n):\n",
    "                if(abs(A_new[i][j]) >= tol):\n",
    "                    \n",
    "                    if(abs(A_new[i][i] - A_new[j][j]) < tol):\n",
    "                        ang = PI/4\n",
    "                    else:\n",
    "                        ang = atan(2.0*A_new[i][j]/(A_new[j][j] - A_new[i][i]))/2.0\n",
    "                    \n",
    "                    P = Identidade(n,m)\n",
    "                    P[i][i] =  cos(ang)\n",
    "                    P[j][j] =  cos(ang)\n",
    "                    P[i][j] = -sin(ang)\n",
    "                    P[j][i] =  sin(ang)\n",
    "                    \n",
    "                    Pt = Transposta(P)\n",
    "                    \n",
    "                    J = matrixByMatrix(J,Pt)\n",
    "                    \n",
    "                    A_new = matrixByMatrix(P, A_new)\n",
    "                    A_new = matrixByMatrix(A_new, Pt)\n",
    "\n",
    "        var_norm = matrixLHNorm2(A_new)\n",
    "\n",
    "    return [A_new, J]"
   ]
  },
  {
   "cell_type": "markdown",
   "metadata": {
    "colab_type": "text",
    "id": "vGM4N8HE39uS"
   },
   "source": [
    "# Método QR"
   ]
  },
  {
   "cell_type": "code",
   "execution_count": 11,
   "metadata": {
    "colab": {},
    "colab_type": "code",
    "id": "XaFQia5s39uT"
   },
   "outputs": [],
   "source": [
    "def decomposicaoQR(A):\n",
    "    tol = 0.000000000001\n",
    "\n",
    "    n = len(A)\n",
    "    m = len(A[0])\n",
    "    Q = Identidade(m,n)\n",
    "    R = [[i for i in j] for j in A]\n",
    "    \n",
    "    for j in range(0,n-1):\n",
    "        for i in range(j+1,n):\n",
    "            if(abs(R[i][j]) >= tol):\n",
    "                \n",
    "                if(abs(R[j][j]) < tol):\n",
    "                    ang = PI/2\n",
    "                else:\n",
    "                    ang = atan(R[i][j]/R[j][j])\n",
    "\n",
    "                P = Identidade(n,m)\n",
    "                P[i][i] =  cos(ang)\n",
    "                P[j][j] =  cos(ang)\n",
    "                P[i][j] =  sin(ang)\n",
    "                P[j][i] = -sin(ang)\n",
    "\n",
    "                Pt = Transposta(P)\n",
    "\n",
    "                Q = matrixByMatrix(Q,P)\n",
    "                R = matrixByMatrix(Pt,R)\n",
    "    \n",
    "    return [Q,R]"
   ]
  },
  {
   "cell_type": "code",
   "execution_count": 12,
   "metadata": {
    "colab": {},
    "colab_type": "code",
    "id": "8wGQi8vX39uW"
   },
   "outputs": [],
   "source": [
    "def metodoQR(A, e):\n",
    "    n = len(A)\n",
    "    m = len(A[0])\n",
    "    \n",
    "    P = Identidade(n,m)\n",
    "    A_new = [[i for i in j] for j in A]\n",
    "    var_norm = e + 1\n",
    "    \n",
    "    while var_norm >= e:\n",
    "        Q, R = decomposicaoQR(A_new)\n",
    "        A_new = matrixByMatrix(R,Q)\n",
    "        P = matrixByMatrix(P,Q)\n",
    "        \n",
    "        var_norm = matrixLHNorm2(A_new)\n",
    "    \n",
    "    return [A_new, P]"
   ]
  },
  {
   "cell_type": "markdown",
   "metadata": {
    "colab_type": "text",
    "id": "JErSB9T_39uZ"
   },
   "source": [
    "# Achando a Matriz \"U\" (A.At com Jacobi)"
   ]
  },
  {
   "cell_type": "code",
   "execution_count": 13,
   "metadata": {
    "colab": {
     "base_uri": "https://localhost:8080/",
     "height": 221
    },
    "colab_type": "code",
    "executionInfo": {
     "elapsed": 1156,
     "status": "ok",
     "timestamp": 1562159461233,
     "user": {
      "displayName": "Daniel Nogueira",
      "photoUrl": "",
      "userId": "00824541409552341256"
     },
     "user_tz": 180
    },
    "id": "Y5MybrtZ39ua",
    "outputId": "a2c34be5-7953-44de-ed52-356a64e1b187"
   },
   "outputs": [
    {
     "name": "stdout",
     "output_type": "stream",
     "text": [
      "Auto valores:\n",
      "1551.50029  0.00003  0.00000  0.00000 -0.00000 \n",
      " 0.00003 247.17207 -0.00000 -0.00000 -0.00000 \n",
      " 0.00000 -0.00000 6408.90400 -0.00000  0.00000 \n",
      " 0.00000  0.00000  0.00000 897.29154 -0.00000 \n",
      "-0.00000  0.00000  0.00000  0.00000 2389.13209 \n",
      "Auto vetores:\n",
      " 0.90423 -0.04980  0.27622  0.27356  0.16958 \n",
      "-0.10547  0.93603  0.19923  0.22525  0.14932 \n",
      "-0.02215  0.00650  0.62663 -0.07782 -0.77508 \n",
      "-0.39392 -0.33467  0.35364  0.74813  0.21924 \n",
      "-0.12486 -0.09658  0.60522 -0.55558  0.54784 \n"
     ]
    }
   ],
   "source": [
    "AU = matrixByMatrix(A,Transposta(A))\n",
    "auto_val, auto_vec = metodoJacobi(AU, tolerancia)\n",
    "print(\"Auto valores:\")\n",
    "printMatrix(auto_val)\n",
    "print(\"Auto vetores:\")\n",
    "printMatrix(auto_vec)"
   ]
  },
  {
   "cell_type": "code",
   "execution_count": 14,
   "metadata": {
    "colab": {
     "base_uri": "https://localhost:8080/",
     "height": 136
    },
    "colab_type": "code",
    "executionInfo": {
     "elapsed": 1146,
     "status": "ok",
     "timestamp": 1562159461240,
     "user": {
      "displayName": "Daniel Nogueira",
      "photoUrl": "",
      "userId": "00824541409552341256"
     },
     "user_tz": 180
    },
    "id": "g4pG4bpF39ue",
    "outputId": "b6265573-dfff-4c04-be28-250efbf4eddb"
   },
   "outputs": [
    {
     "name": "stdout",
     "output_type": "stream",
     "text": [
      "6408.904004748751 2389.1320944441723 1551.5002898710495 897.2915425655913 247.1720683704343 \n",
      "Matriz U:\n",
      " 0.27622  0.16958  0.90423  0.27356 -0.04980 \n",
      " 0.19923  0.14932 -0.10547  0.22525  0.93603 \n",
      " 0.62663 -0.77508 -0.02215 -0.07782  0.00650 \n",
      " 0.35364  0.21924 -0.39392  0.74813 -0.33467 \n",
      " 0.60522  0.54784 -0.12486 -0.55558 -0.09658 \n"
     ]
    }
   ],
   "source": [
    "n = len(auto_val)\n",
    "vec_auto = []\n",
    "\n",
    "for j in range(n):\n",
    "    val = auto_val[j][j]\n",
    "    vec = []\n",
    "    for i in range(n):\n",
    "        vec.append(auto_vec[i][j])\n",
    "    vec_auto.append((val, vec))\n",
    "vec_auto.sort(reverse=True)\n",
    "\n",
    "U = [[0 for j in range(n)] for i in range(n)]\n",
    "for i in range(n):\n",
    "    for j in range(n):\n",
    "        U[j][i] = vec_auto[i][1][j]\n",
    "for i in range(n):\n",
    "    print(vec_auto[i][0],end=\" \")\n",
    "print()\n",
    "print(\"Matriz U:\")\n",
    "printMatrix(U)"
   ]
  },
  {
   "cell_type": "markdown",
   "metadata": {
    "colab_type": "text",
    "id": "qxt39FAW39uj"
   },
   "source": [
    "# Achando a Matriz \"V\" (At.A com QR)"
   ]
  },
  {
   "cell_type": "code",
   "execution_count": 15,
   "metadata": {
    "colab": {
     "base_uri": "https://localhost:8080/",
     "height": 221
    },
    "colab_type": "code",
    "executionInfo": {
     "elapsed": 1428,
     "status": "ok",
     "timestamp": 1562159461543,
     "user": {
      "displayName": "Daniel Nogueira",
      "photoUrl": "",
      "userId": "00824541409552341256"
     },
     "user_tz": 180
    },
    "id": "zSgIZKni39uk",
    "outputId": "7c025185-a4af-46e4-9292-cd3bf747a892"
   },
   "outputs": [
    {
     "name": "stdout",
     "output_type": "stream",
     "text": [
      "Auto valores:\n",
      "6408.90400 -0.00000  0.00000 -0.00000  0.00000 \n",
      "-0.00000 2389.13209 -0.00272 -0.00000  0.00000 \n",
      " 0.00000 -0.00272 1551.50029 -0.00000  0.00000 \n",
      "-0.00000 -0.00000 -0.00000 897.29154 -0.00000 \n",
      " 0.00000  0.00000  0.00000 -0.00000 247.17207 \n",
      "Auto vetores:\n",
      " 0.27622  0.16958 -0.90423  0.27356  0.04980 \n",
      " 0.19923  0.14932  0.10547  0.22525 -0.93603 \n",
      " 0.62663 -0.77508  0.02216 -0.07782 -0.00650 \n",
      " 0.35364  0.21924  0.39391  0.74813  0.33467 \n",
      " 0.60522  0.54784  0.12485 -0.55558  0.09658 \n"
     ]
    }
   ],
   "source": [
    "AV = matrixByMatrix(Transposta(A),A)\n",
    "auto_val, auto_vec = metodoQR(AV, tolerancia)\n",
    "print(\"Auto valores:\")\n",
    "printMatrix(auto_val)\n",
    "print(\"Auto vetores:\")\n",
    "printMatrix(auto_vec)"
   ]
  },
  {
   "cell_type": "code",
   "execution_count": 16,
   "metadata": {
    "colab": {
     "base_uri": "https://localhost:8080/",
     "height": 119
    },
    "colab_type": "code",
    "executionInfo": {
     "elapsed": 1408,
     "status": "ok",
     "timestamp": 1562159461545,
     "user": {
      "displayName": "Daniel Nogueira",
      "photoUrl": "",
      "userId": "00824541409552341256"
     },
     "user_tz": 180
    },
    "id": "y6nLxUa-39uo",
    "outputId": "0d6a8358-28ed-46b1-d5cb-2ffdde3d1253"
   },
   "outputs": [
    {
     "name": "stdout",
     "output_type": "stream",
     "text": [
      "Matriz V:\n",
      " 0.27622  0.16958 -0.90423  0.27356  0.04980 \n",
      " 0.19923  0.14932  0.10547  0.22525 -0.93603 \n",
      " 0.62663 -0.77508  0.02216 -0.07782 -0.00650 \n",
      " 0.35364  0.21924  0.39391  0.74813  0.33467 \n",
      " 0.60522  0.54784  0.12485 -0.55558  0.09658 \n"
     ]
    }
   ],
   "source": [
    "n = len(auto_val)\n",
    "vec_auto = []\n",
    "for j in range(n):\n",
    "    val = auto_val[j][j]\n",
    "    vec = []\n",
    "    for i in range(n):\n",
    "        vec.append(auto_vec[i][j])\n",
    "    vec_auto.append((val, vec))\n",
    "vec_auto.sort(reverse=True)\n",
    "\n",
    "V = [[0 for j in range(n)] for i in range(n)]\n",
    "for i in range(n):\n",
    "    for j in range(n):\n",
    "        V[j][i] = vec_auto[i][1][j]\n",
    "\n",
    "print(\"Matriz V:\")\n",
    "printMatrix(V)"
   ]
  },
  {
   "cell_type": "markdown",
   "metadata": {
    "colab_type": "text",
    "id": "I1CJJu8N39ur"
   },
   "source": [
    "# Achando a Matriz \"E\""
   ]
  },
  {
   "cell_type": "code",
   "execution_count": 17,
   "metadata": {
    "colab": {
     "base_uri": "https://localhost:8080/",
     "height": 34
    },
    "colab_type": "code",
    "executionInfo": {
     "elapsed": 1391,
     "status": "ok",
     "timestamp": 1562159461547,
     "user": {
      "displayName": "Daniel Nogueira",
      "photoUrl": "",
      "userId": "00824541409552341256"
     },
     "user_tz": 180
    },
    "id": "b9Xo-7WE39us",
    "outputId": "60d6cc18-5d96-4571-b8ed-12ff6c9d2e48"
   },
   "outputs": [
    {
     "name": "stdout",
     "output_type": "stream",
     "text": [
      "Autovalores = [6408.904004748751, 2389.1320944441723, 1551.5002898710495, 897.2915425655913, 247.1720683704343]\n"
     ]
    }
   ],
   "source": [
    "AAT = matrixByMatrix(A,Transposta(A))\n",
    "auto_val, auto_vec = metodoJacobi(AU, tolerancia)\n",
    "lamb = []\n",
    "n = len(auto_val)\n",
    "for i in range(n):\n",
    "    lamb.append(auto_val[i][i])\n",
    "lamb.sort(reverse=True)\n",
    "print(\"Autovalores =\",lamb)"
   ]
  },
  {
   "cell_type": "code",
   "execution_count": 18,
   "metadata": {
    "colab": {
     "base_uri": "https://localhost:8080/",
     "height": 119
    },
    "colab_type": "code",
    "executionInfo": {
     "elapsed": 1371,
     "status": "ok",
     "timestamp": 1562159461548,
     "user": {
      "displayName": "Daniel Nogueira",
      "photoUrl": "",
      "userId": "00824541409552341256"
     },
     "user_tz": 180
    },
    "id": "slZd1D1i39uz",
    "outputId": "174b82de-424d-411f-b207-5da6e9e42a4a"
   },
   "outputs": [
    {
     "name": "stdout",
     "output_type": "stream",
     "text": [
      "Matriz E:\n",
      "80.05563  0.00000  0.00000  0.00000  0.00000 \n",
      " 0.00000 48.87875  0.00000  0.00000  0.00000 \n",
      " 0.00000  0.00000 39.38909  0.00000  0.00000 \n",
      " 0.00000  0.00000  0.00000 29.95483  0.00000 \n",
      " 0.00000  0.00000  0.00000  0.00000 15.72171 \n"
     ]
    }
   ],
   "source": [
    "n = len(lamb)\n",
    "E = [[0 for i in range(n)] for j in range(n)]\n",
    "for i in range(n):\n",
    "    E[i][i] = sqrt(lamb[i])\n",
    "print(\"Matriz E:\")\n",
    "printMatrix(E)"
   ]
  },
  {
   "cell_type": "markdown",
   "metadata": {
    "colab_type": "text",
    "id": "TLrqWqKD39u4"
   },
   "source": [
    "# Resposta"
   ]
  },
  {
   "cell_type": "code",
   "execution_count": 19,
   "metadata": {
    "colab": {
     "base_uri": "https://localhost:8080/",
     "height": 323
    },
    "colab_type": "code",
    "executionInfo": {
     "elapsed": 1346,
     "status": "ok",
     "timestamp": 1562159461550,
     "user": {
      "displayName": "Daniel Nogueira",
      "photoUrl": "",
      "userId": "00824541409552341256"
     },
     "user_tz": 180
    },
    "id": "YU6XRj2v39u5",
    "outputId": "c532faa0-5e1a-44e8-83f7-55fa0b82b8f8"
   },
   "outputs": [
    {
     "name": "stdout",
     "output_type": "stream",
     "text": [
      "Matriz U:\n",
      " 0.27622  0.16958  0.90423  0.27356 -0.04980 \n",
      " 0.19923  0.14932 -0.10547  0.22525  0.93603 \n",
      " 0.62663 -0.77508 -0.02215 -0.07782  0.00650 \n",
      " 0.35364  0.21924 -0.39392  0.74813 -0.33467 \n",
      " 0.60522  0.54784 -0.12486 -0.55558 -0.09658 \n",
      "Matriz E:\n",
      "80.05563  0.00000  0.00000  0.00000  0.00000 \n",
      " 0.00000 48.87875  0.00000  0.00000  0.00000 \n",
      " 0.00000  0.00000 39.38909  0.00000  0.00000 \n",
      " 0.00000  0.00000  0.00000 29.95483  0.00000 \n",
      " 0.00000  0.00000  0.00000  0.00000 15.72171 \n",
      "Matriz V:\n",
      " 0.27622  0.16958 -0.90423  0.27356  0.04980 \n",
      " 0.19923  0.14932  0.10547  0.22525 -0.93603 \n",
      " 0.62663 -0.77508  0.02216 -0.07782 -0.00650 \n",
      " 0.35364  0.21924  0.39391  0.74813  0.33467 \n",
      " 0.60522  0.54784  0.12485 -0.55558  0.09658 \n"
     ]
    }
   ],
   "source": [
    "print(\"Matriz U:\")\n",
    "printMatrix(U)\n",
    "print(\"Matriz E:\")\n",
    "printMatrix(E)\n",
    "print(\"Matriz V:\")\n",
    "printMatrix(V)"
   ]
  },
  {
   "cell_type": "code",
   "execution_count": 20,
   "metadata": {
    "colab": {
     "base_uri": "https://localhost:8080/",
     "height": 221
    },
    "colab_type": "code",
    "executionInfo": {
     "elapsed": 1330,
     "status": "ok",
     "timestamp": 1562159461551,
     "user": {
      "displayName": "Daniel Nogueira",
      "photoUrl": "",
      "userId": "00824541409552341256"
     },
     "user_tz": 180
    },
    "id": "AfS473bh39u8",
    "outputId": "6b37d88a-fd58-4810-8b20-eeb697bce7e7"
   },
   "outputs": [
    {
     "name": "stdout",
     "output_type": "stream",
     "text": [
      "Matrix A:\n",
      "42.00000  3.00000  6.00000  2.00000  9.00000 \n",
      " 3.00000 20.00000  4.00000  9.00000  9.00000 \n",
      " 6.00000  4.00000 61.00000  8.00000 11.00000 \n",
      " 2.00000  9.00000  8.00000 37.00000 13.00000 \n",
      " 9.00000  9.00000 11.00000 13.00000 54.00000 \n",
      "Matrix U.E.V^t:\n",
      "-22.48923 11.97822  7.58834 29.53593 17.74269 \n",
      "11.97822 -8.42536  3.62458 15.57708 10.80522 \n",
      " 7.58836  3.62458 60.96000  7.38090 10.80183 \n",
      "29.53592 15.57708  7.38091 21.25436  8.10916 \n",
      "17.74267 10.80522 10.80183  8.10917 52.47863 \n"
     ]
    }
   ],
   "source": [
    "print(\"Matrix A:\")\n",
    "printMatrix(A)\n",
    "print(\"Matrix U.E.V^t:\")\n",
    "printMatrix(matrixByMatrix(matrixByMatrix(U,E),Transposta(V)))"
   ]
  },
  {
   "cell_type": "markdown",
   "metadata": {
    "colab_type": "text",
    "id": "6CPdz8PA39u_"
   },
   "source": [
    "# Ajustando para A = UEV^t"
   ]
  },
  {
   "cell_type": "code",
   "execution_count": 21,
   "metadata": {
    "colab": {
     "base_uri": "https://localhost:8080/",
     "height": 102
    },
    "colab_type": "code",
    "executionInfo": {
     "elapsed": 1315,
     "status": "ok",
     "timestamp": 1562159461554,
     "user": {
      "displayName": "Daniel Nogueira",
      "photoUrl": "",
      "userId": "00824541409552341256"
     },
     "user_tz": 180
    },
    "id": "2xQUS7Ir39vA",
    "outputId": "3ad34a6e-cb8d-4df3-cbcc-087920b554a6"
   },
   "outputs": [
    {
     "name": "stdout",
     "output_type": "stream",
     "text": [
      " 0.27622  0.16958  0.90423  0.27356 -0.04980 \n",
      " 0.19923  0.14932 -0.10547  0.22525  0.93603 \n",
      " 0.62663 -0.77508 -0.02216 -0.07782  0.00650 \n",
      " 0.35364  0.21924 -0.39391  0.74813 -0.33467 \n",
      " 0.60522  0.54784 -0.12485 -0.55558 -0.09658 \n"
     ]
    }
   ],
   "source": [
    "V = inverterVetores(V, [1,1,-1,1,-1])\n",
    "printMatrix(V)"
   ]
  },
  {
   "cell_type": "code",
   "execution_count": 22,
   "metadata": {
    "colab": {
     "base_uri": "https://localhost:8080/",
     "height": 221
    },
    "colab_type": "code",
    "executionInfo": {
     "elapsed": 1300,
     "status": "ok",
     "timestamp": 1562159461556,
     "user": {
      "displayName": "Daniel Nogueira",
      "photoUrl": "",
      "userId": "00824541409552341256"
     },
     "user_tz": 180
    },
    "id": "nOAr658b39vD",
    "outputId": "e0fb12d2-945b-40be-d79a-3989040211f1"
   },
   "outputs": [
    {
     "name": "stdout",
     "output_type": "stream",
     "text": [
      "Matrix A:\n",
      "42.00000  3.00000  6.00000  2.00000  9.00000 \n",
      " 3.00000 20.00000  4.00000  9.00000  9.00000 \n",
      " 6.00000  4.00000 61.00000  8.00000 11.00000 \n",
      " 2.00000  9.00000  8.00000 37.00000 13.00000 \n",
      " 9.00000  9.00000 11.00000 13.00000 54.00000 \n",
      "Matrix U.E.V^t:\n",
      "42.00000  3.00002  5.99991  2.00004  9.00007 \n",
      " 2.99998 20.00000  4.00001  9.00001  9.00000 \n",
      " 6.00011  3.99999 61.00000  7.99995 10.99998 \n",
      " 1.99996  9.00000  8.00004 37.00000 12.99998 \n",
      " 8.99992  9.00001 11.00001 13.00003 54.00000 \n"
     ]
    }
   ],
   "source": [
    "print(\"Matrix A:\")\n",
    "printMatrix(A)\n",
    "print(\"Matrix U.E.V^t:\")\n",
    "printMatrix(matrixByMatrix(matrixByMatrix(U,E),Transposta(V)))"
   ]
  }
 ],
 "metadata": {
  "colab": {
   "collapsed_sections": [],
   "name": "Questão 2.ipynb",
   "provenance": [
    {
     "file_id": "15JTlhIYWVEJma_O3ORR0Hr9BOuwZhAC7",
     "timestamp": 1561772501967
    }
   ],
   "version": "0.3.2"
  },
  "kernelspec": {
   "display_name": "Python 3",
   "language": "python",
   "name": "python3"
  },
  "language_info": {
   "codemirror_mode": {
    "name": "ipython",
    "version": 3
   },
   "file_extension": ".py",
   "mimetype": "text/x-python",
   "name": "python",
   "nbconvert_exporter": "python",
   "pygments_lexer": "ipython3",
   "version": "3.7.3"
  }
 },
 "nbformat": 4,
 "nbformat_minor": 1
}
