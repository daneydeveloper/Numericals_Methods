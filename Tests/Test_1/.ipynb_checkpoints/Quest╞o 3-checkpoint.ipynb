{
 "cells": [
  {
   "cell_type": "markdown",
   "metadata": {
    "colab_type": "text",
    "id": "baVdIPRMh9GF"
   },
   "source": [
    "# Importações"
   ]
  },
  {
   "cell_type": "code",
   "execution_count": 1,
   "metadata": {
    "colab": {},
    "colab_type": "code",
    "id": "pkHGbbT5hvLm"
   },
   "outputs": [],
   "source": [
    "import numpy as np\n",
    "from math import sqrt\n",
    "from math import pi as PI\n",
    "from math import atan\n",
    "from math import sin\n",
    "from math import cos"
   ]
  },
  {
   "cell_type": "markdown",
   "metadata": {
    "colab_type": "text",
    "id": "bYkQP1HViCQe"
   },
   "source": [
    "# Variáveis"
   ]
  },
  {
   "cell_type": "code",
   "execution_count": 2,
   "metadata": {},
   "outputs": [],
   "source": [
    "a,b,c,d,e,f = [3,6,2,9,4,9]\n",
    "tolerancia = 0.0000000000001"
   ]
  },
  {
   "cell_type": "code",
   "execution_count": 3,
   "metadata": {
    "colab": {},
    "colab_type": "code",
    "id": "nkICAkjliFVT",
    "scrolled": true
   },
   "outputs": [],
   "source": [
    "A = [[30 + a + f,          a,          b,      c,     d],\n",
    "     [         a, 10 + b + e,          e,      f, a + b],\n",
    "     [         b,          e, 50 + c + d,  b + c, c + d]]\n",
    "\n",
    "x = [1,1,1,1,1]"
   ]
  },
  {
   "cell_type": "markdown",
   "metadata": {
    "colab_type": "text",
    "id": "6EgNsJCGiJO8"
   },
   "source": [
    "# Operações Básicas"
   ]
  },
  {
   "cell_type": "code",
   "execution_count": 4,
   "metadata": {
    "colab": {},
    "colab_type": "code",
    "id": "p4TSlzoL8Wi5"
   },
   "outputs": [],
   "source": [
    "def matrixByMatrix(a,b):\n",
    "    na = len(a)\n",
    "    ma = len(a[0])\n",
    "    nb = len(b)\n",
    "    mb = len(b[0])\n",
    "    \n",
    "    mid = min(ma, nb)\n",
    "    \n",
    "    if ma != nb:\n",
    "        raise Exception('Matrix Error!')\n",
    "    \n",
    "    c = [[0 for j in range(mb)] for i in range(na)]\n",
    "    \n",
    "    for i in range(na):\n",
    "        for j in range(mb):\n",
    "            for k in range(mid):\n",
    "                c[i][j] += a[i][k] * b[k][j]\n",
    "    \n",
    "    return c"
   ]
  },
  {
   "cell_type": "code",
   "execution_count": 5,
   "metadata": {
    "colab": {},
    "colab_type": "code",
    "id": "nzVA-R7s8Wi8"
   },
   "outputs": [],
   "source": [
    "def matrixLHNorm2(a):\n",
    "    n = len(a)\n",
    "    m = len(a[0])\n",
    "    soma = 0.0\n",
    "    for j in range(m-1):\n",
    "        for i in range(j+1,n):\n",
    "            soma += a[i][j] * a[i][j]\n",
    "    return soma"
   ]
  },
  {
   "cell_type": "code",
   "execution_count": 6,
   "metadata": {
    "colab": {},
    "colab_type": "code",
    "id": "RzVjoCn2HhMH"
   },
   "outputs": [],
   "source": [
    "def Identidade(n,m):\n",
    "    I = [[0 for i in range(m)] for j in range(n)]\n",
    "    for i in range(min(n,m)):\n",
    "        I[i][i] = 1\n",
    "    return I"
   ]
  },
  {
   "cell_type": "code",
   "execution_count": 7,
   "metadata": {
    "colab": {},
    "colab_type": "code",
    "id": "b8WfFlL28WjC"
   },
   "outputs": [],
   "source": [
    "def Transposta(A):\n",
    "    n = len(A)\n",
    "    m = len(A[0])\n",
    "    \n",
    "    B = [[0 for j in range(n)] for i in range(m)]\n",
    "    for i in range(n):\n",
    "        for j in range(m):\n",
    "            B[j][i] = A[i][j]\n",
    "    return B"
   ]
  },
  {
   "cell_type": "code",
   "execution_count": 8,
   "metadata": {
    "colab": {},
    "colab_type": "code",
    "id": "MJpTavDa8WjG"
   },
   "outputs": [],
   "source": [
    "def printMatrix(A):\n",
    "    for i in A:\n",
    "        for j in i:\n",
    "            s = \"%.5f\" % j\n",
    "            print(\"%10s\" % s, end = \" \")\n",
    "        print()"
   ]
  },
  {
   "cell_type": "code",
   "execution_count": 9,
   "metadata": {
    "colab": {},
    "colab_type": "code",
    "id": "imKsN3ieAqeF"
   },
   "outputs": [],
   "source": [
    "def decomposicaoLU(A):\n",
    "    n = len(A)\n",
    "    L = [[0 for j in range(n)] for i in range(n)]\n",
    "    U = [[A[i][j] for j in range(n)] for i in range(n)]\n",
    "    for i in range(n):\n",
    "        L[i][i] = 1\n",
    "    for j in range(n-1):\n",
    "        for i in range(j+1, n):\n",
    "            L[i][j] = U[i][j]/U[j][j]\n",
    "            for k in range(j+1, n):\n",
    "                U[i][k] -= L[i][j] * U[j][k]\n",
    "            U[i][j] = 0\n",
    "    return [L, U]"
   ]
  },
  {
   "cell_type": "code",
   "execution_count": 10,
   "metadata": {
    "colab": {},
    "colab_type": "code",
    "id": "YpsFmeY8ArMk"
   },
   "outputs": [],
   "source": [
    "# L(Ux) = b; Ux = y\n",
    "def solverLU(A, b):\n",
    "    n = len(A)\n",
    "    L, U = decomposicaoLU(A)\n",
    "    \n",
    "    # Finding y for Ly = b\n",
    "    y = [i for i in b]\n",
    "    for i in range(n):\n",
    "        for j in range(0,i):\n",
    "            y[i] -= L[i][j] * y[j]\n",
    "    \n",
    "    # Finding x for Ux = y\n",
    "    x = [i for i in y]\n",
    "    for i in range(n-1,-1,-1):\n",
    "        for j in range(n-1,i,-1):\n",
    "            x[i] -= U[i][j] * x[j]\n",
    "        x[i] = x[i]/U[i][i]\n",
    "    \n",
    "    return x"
   ]
  },
  {
   "cell_type": "markdown",
   "metadata": {
    "colab_type": "text",
    "id": "trJAaOSpiVno"
   },
   "source": [
    "# Método Jacobi"
   ]
  },
  {
   "cell_type": "code",
   "execution_count": 11,
   "metadata": {
    "colab": {},
    "colab_type": "code",
    "id": "_s51PEpliURU"
   },
   "outputs": [],
   "source": [
    "def metodoJacobi(A, e):\n",
    "    n = len(A)\n",
    "    m = len(A[0])\n",
    "    tol = 0.000000000001\n",
    "    \n",
    "    var_norm = e + 1\n",
    "    \n",
    "    J = Identidade(n,m)\n",
    "    A_new = [[j for j in i] for i in A]\n",
    "    \n",
    "    while var_norm > e:\n",
    "        for j in range(0,n-1):\n",
    "            for i in range(j+1,n):\n",
    "                if(abs(A_new[i][j]) >= tol):\n",
    "                    \n",
    "                    if(abs(A_new[i][i] - A_new[j][j]) < tol):\n",
    "                        ang = PI/4\n",
    "                    else:\n",
    "                        ang = atan(2.0*A_new[i][j]/(A_new[j][j] - A_new[i][i]))/2.0\n",
    "                    \n",
    "                    P = Identidade(n,m)\n",
    "                    P[i][i] =  cos(ang)\n",
    "                    P[j][j] =  cos(ang)\n",
    "                    P[i][j] = -sin(ang)\n",
    "                    P[j][i] =  sin(ang)\n",
    "                    \n",
    "                    Pt = Transposta(P)\n",
    "                    \n",
    "                    J = matrixByMatrix(J,Pt)\n",
    "                    \n",
    "                    A_new = matrixByMatrix(P, A_new)\n",
    "                    A_new = matrixByMatrix(A_new, Pt)\n",
    "\n",
    "        var_norm = matrixLHNorm2(A_new)\n",
    "\n",
    "    return [A_new, J]"
   ]
  },
  {
   "cell_type": "markdown",
   "metadata": {
    "colab_type": "text",
    "id": "bjTWWNA38WjQ"
   },
   "source": [
    "# Método QR"
   ]
  },
  {
   "cell_type": "code",
   "execution_count": 12,
   "metadata": {
    "colab": {},
    "colab_type": "code",
    "id": "50hvVuZY8WjR"
   },
   "outputs": [],
   "source": [
    "def decomposicaoQR(A):\n",
    "    tol = 0.000000000001\n",
    "\n",
    "    n = len(A)\n",
    "    m = len(A[0])\n",
    "    Q = Identidade(m,n)\n",
    "    R = [[i for i in j] for j in A]\n",
    "    \n",
    "    for j in range(0,n-1):\n",
    "        for i in range(j+1,n):\n",
    "            if(abs(R[i][j]) >= tol):\n",
    "                \n",
    "                if(abs(R[j][j]) < tol):\n",
    "                    ang = PI/2\n",
    "                else:\n",
    "                    ang = atan(R[i][j]/R[j][j])\n",
    "\n",
    "                P = Identidade(n,m)\n",
    "                P[i][i] =  cos(ang)\n",
    "                P[j][j] =  cos(ang)\n",
    "                P[i][j] =  sin(ang)\n",
    "                P[j][i] = -sin(ang)\n",
    "\n",
    "                Pt = Transposta(P)\n",
    "\n",
    "                Q = matrixByMatrix(Q,P)\n",
    "                R = matrixByMatrix(Pt,R)\n",
    "    \n",
    "    return [Q,R]"
   ]
  },
  {
   "cell_type": "code",
   "execution_count": 13,
   "metadata": {
    "colab": {},
    "colab_type": "code",
    "id": "8mzxCPqG8WjU"
   },
   "outputs": [],
   "source": [
    "def metodoQR(A, e):\n",
    "    n = len(A)\n",
    "    m = len(A[0])\n",
    "    \n",
    "    P = Identidade(n,m)\n",
    "    A_new = [[i for i in j] for j in A]\n",
    "    var_norm = e + 1\n",
    "    \n",
    "    while var_norm >= e:\n",
    "        Q, R = decomposicaoQR(A_new)\n",
    "        A_new = matrixByMatrix(R,Q)\n",
    "        P = matrixByMatrix(P,Q)\n",
    "        \n",
    "        var_norm = matrixLHNorm2(A_new)\n",
    "    \n",
    "    return [A_new, P]"
   ]
  },
  {
   "cell_type": "markdown",
   "metadata": {
    "colab_type": "text",
    "id": "8QTmpAvZ8WjX"
   },
   "source": [
    "# Achando a Matriz \"U\" (A.At com Jacobi)"
   ]
  },
  {
   "cell_type": "code",
   "execution_count": 14,
   "metadata": {
    "colab": {
     "base_uri": "https://localhost:8080/",
     "height": 153
    },
    "colab_type": "code",
    "executionInfo": {
     "elapsed": 1655,
     "status": "ok",
     "timestamp": 1562160406204,
     "user": {
      "displayName": "Daniel Nogueira",
      "photoUrl": "",
      "userId": "00824541409552341256"
     },
     "user_tz": 180
    },
    "id": "0OHI5VWU8WjY",
    "outputId": "b01e7fec-985a-457c-ea98-a44956cf89a8"
   },
   "outputs": [
    {
     "name": "stdout",
     "output_type": "stream",
     "text": [
      "Auto valores:\n",
      "4290.80768    0.00000    0.00000 \n",
      "   0.00000 1668.45437    0.00000 \n",
      "   0.00000    0.00000  479.73796 \n",
      "Auto vetores:\n",
      "   0.31146   -0.93741    0.15576 \n",
      "   0.15582   -0.11132   -0.98149 \n",
      "   0.93740    0.32997    0.11140 \n"
     ]
    }
   ],
   "source": [
    "AU = matrixByMatrix(A,Transposta(A))\n",
    "auto_val, auto_vec = metodoQR(AU, tolerancia)\n",
    "print(\"Auto valores:\")\n",
    "printMatrix(auto_val)\n",
    "print(\"Auto vetores:\")\n",
    "printMatrix(auto_vec)"
   ]
  },
  {
   "cell_type": "code",
   "execution_count": 15,
   "metadata": {
    "colab": {
     "base_uri": "https://localhost:8080/",
     "height": 102
    },
    "colab_type": "code",
    "executionInfo": {
     "elapsed": 1644,
     "status": "ok",
     "timestamp": 1562160406205,
     "user": {
      "displayName": "Daniel Nogueira",
      "photoUrl": "",
      "userId": "00824541409552341256"
     },
     "user_tz": 180
    },
    "id": "ii6DpJh68Wjf",
    "outputId": "be154e52-5afd-44db-b4db-226d0e4bb5a5"
   },
   "outputs": [
    {
     "name": "stdout",
     "output_type": "stream",
     "text": [
      "4290.807677050978 1668.454365915156 479.73795703386537 \n",
      "Matriz U:\n",
      "   0.31146   -0.93741    0.15576 \n",
      "   0.15582   -0.11132   -0.98149 \n",
      "   0.93740    0.32997    0.11140 \n"
     ]
    }
   ],
   "source": [
    "n = len(auto_val)\n",
    "vec_auto = []\n",
    "\n",
    "for j in range(n):\n",
    "    val = auto_val[j][j]\n",
    "    vec = []\n",
    "    for i in range(n):\n",
    "        vec.append(auto_vec[i][j])\n",
    "    vec_auto.append((val, vec))\n",
    "vec_auto.sort(reverse=True)\n",
    "\n",
    "U = [[0 for j in range(n)] for i in range(n)]\n",
    "for i in range(n):\n",
    "    for j in range(n):\n",
    "        U[j][i] = vec_auto[i][1][j]\n",
    "for i in range(n):\n",
    "    print(vec_auto[i][0],end=\" \")\n",
    "print()\n",
    "print(\"Matriz U:\")\n",
    "printMatrix(U)"
   ]
  },
  {
   "cell_type": "markdown",
   "metadata": {
    "colab_type": "text",
    "id": "iWmLp-3a8Wjj"
   },
   "source": [
    "# Achando a Matriz \"V\" (At.A com QR)"
   ]
  },
  {
   "cell_type": "code",
   "execution_count": 16,
   "metadata": {
    "colab": {
     "base_uri": "https://localhost:8080/",
     "height": 221
    },
    "colab_type": "code",
    "executionInfo": {
     "elapsed": 1626,
     "status": "ok",
     "timestamp": 1562160406206,
     "user": {
      "displayName": "Daniel Nogueira",
      "photoUrl": "",
      "userId": "00824541409552341256"
     },
     "user_tz": 180
    },
    "id": "ecd3gnzC8Wjk",
    "outputId": "bb1c291a-3dea-4ae1-e932-5cad95506628"
   },
   "outputs": [
    {
     "name": "stdout",
     "output_type": "stream",
     "text": [
      "Auto valores:\n",
      "4290.80768    0.00000    0.00000    0.00000    0.00000 \n",
      "   0.00000 1668.45437    0.00000    0.00000    0.00000 \n",
      "   0.00000    0.00000  479.73796    0.00000    0.00000 \n",
      "   0.00000    0.00000   -0.00000    0.00000   -0.00000 \n",
      "  -0.00000    0.00000    0.00000    0.00000   -0.00000 \n",
      "Auto vetores:\n",
      "   0.29270   -0.92358    0.19477   -0.00209   -0.15293 \n",
      "   0.11908   -0.09104   -0.85454   -0.39258   -0.30523 \n",
      "   0.91098    0.34417    0.17366   -0.09404   -0.11249 \n",
      "   0.14540   -0.00580   -0.34839    0.91489   -0.14289 \n",
      "   0.22162   -0.14221   -0.28335    0.00000    0.92216 \n"
     ]
    }
   ],
   "source": [
    "AV = matrixByMatrix(Transposta(A),A)\n",
    "auto_val, auto_vec = metodoQR(AV, tolerancia)\n",
    "print(\"Auto valores:\")\n",
    "printMatrix(auto_val)\n",
    "print(\"Auto vetores:\")\n",
    "printMatrix(auto_vec)"
   ]
  },
  {
   "cell_type": "code",
   "execution_count": 17,
   "metadata": {
    "colab": {
     "base_uri": "https://localhost:8080/",
     "height": 119
    },
    "colab_type": "code",
    "executionInfo": {
     "elapsed": 1606,
     "status": "ok",
     "timestamp": 1562160406208,
     "user": {
      "displayName": "Daniel Nogueira",
      "photoUrl": "",
      "userId": "00824541409552341256"
     },
     "user_tz": 180
    },
    "id": "Al4jFaaC8Wjn",
    "outputId": "8eefdb8f-d793-4b0d-c762-849c25a250f6"
   },
   "outputs": [
    {
     "name": "stdout",
     "output_type": "stream",
     "text": [
      "Matriz V:\n",
      "   0.29270   -0.92358    0.19477   -0.00209   -0.15293 \n",
      "   0.11908   -0.09104   -0.85454   -0.39258   -0.30523 \n",
      "   0.91098    0.34417    0.17366   -0.09404   -0.11249 \n",
      "   0.14540   -0.00580   -0.34839    0.91489   -0.14289 \n",
      "   0.22162   -0.14221   -0.28335    0.00000    0.92216 \n"
     ]
    }
   ],
   "source": [
    "n = len(auto_val)\n",
    "vec_auto = []\n",
    "for j in range(n):\n",
    "    val = auto_val[j][j]\n",
    "    vec = []\n",
    "    for i in range(n):\n",
    "        vec.append(auto_vec[i][j])\n",
    "    vec_auto.append((val, vec))\n",
    "vec_auto.sort(reverse=True)\n",
    "\n",
    "V = [[0 for j in range(n)] for i in range(n)]\n",
    "for i in range(n):\n",
    "    for j in range(n):\n",
    "        V[j][i] = vec_auto[i][1][j]\n",
    "\n",
    "print(\"Matriz V:\")\n",
    "printMatrix(V)"
   ]
  },
  {
   "cell_type": "markdown",
   "metadata": {
    "colab_type": "text",
    "id": "3OBqgBBQ8Wjr"
   },
   "source": [
    "# Achando a Matriz \"E\""
   ]
  },
  {
   "cell_type": "code",
   "execution_count": 18,
   "metadata": {
    "colab": {
     "base_uri": "https://localhost:8080/",
     "height": 34
    },
    "colab_type": "code",
    "executionInfo": {
     "elapsed": 1588,
     "status": "ok",
     "timestamp": 1562160406208,
     "user": {
      "displayName": "Daniel Nogueira",
      "photoUrl": "",
      "userId": "00824541409552341256"
     },
     "user_tz": 180
    },
    "id": "gpaEKi1h8Wjs",
    "outputId": "eec3e1a2-563e-450f-a6d5-a6e330a5c455"
   },
   "outputs": [
    {
     "name": "stdout",
     "output_type": "stream",
     "text": [
      "Autovalores = [4290.807677050978, 1668.454365915156, 479.73795703386537]\n"
     ]
    }
   ],
   "source": [
    "AAT = matrixByMatrix(A,Transposta(A))\n",
    "auto_val, auto_vec = metodoQR(AU, tolerancia)\n",
    "lamb = []\n",
    "n = len(auto_val)\n",
    "for i in range(n):\n",
    "    lamb.append(auto_val[i][i])\n",
    "lamb.sort(reverse=True)\n",
    "print(\"Autovalores =\",lamb)"
   ]
  },
  {
   "cell_type": "code",
   "execution_count": 19,
   "metadata": {
    "colab": {
     "base_uri": "https://localhost:8080/",
     "height": 85
    },
    "colab_type": "code",
    "executionInfo": {
     "elapsed": 1562,
     "status": "ok",
     "timestamp": 1562160406209,
     "user": {
      "displayName": "Daniel Nogueira",
      "photoUrl": "",
      "userId": "00824541409552341256"
     },
     "user_tz": 180
    },
    "id": "Pj91ezT48Wjy",
    "outputId": "fed2aa21-c23e-43f2-ce72-2dd88f0a901a"
   },
   "outputs": [
    {
     "name": "stdout",
     "output_type": "stream",
     "text": [
      "Matriz E:\n",
      "  65.50426    0.00000    0.00000    0.00000    0.00000 \n",
      "   0.00000   40.84672    0.00000    0.00000    0.00000 \n",
      "   0.00000    0.00000   21.90292    0.00000    0.00000 \n"
     ]
    }
   ],
   "source": [
    "n = len(A)\n",
    "m = len(A[0])\n",
    "E = [[0 for i in range(m)] for j in range(n)]\n",
    "for i in range(n):\n",
    "    E[i][i] = sqrt(lamb[i])\n",
    "print(\"Matriz E:\")\n",
    "printMatrix(E)"
   ]
  },
  {
   "cell_type": "markdown",
   "metadata": {
    "colab_type": "text",
    "id": "VQER1FDN8Wj3"
   },
   "source": [
    "# Resposta"
   ]
  },
  {
   "cell_type": "code",
   "execution_count": 20,
   "metadata": {
    "colab": {
     "base_uri": "https://localhost:8080/",
     "height": 255
    },
    "colab_type": "code",
    "executionInfo": {
     "elapsed": 1547,
     "status": "ok",
     "timestamp": 1562160406210,
     "user": {
      "displayName": "Daniel Nogueira",
      "photoUrl": "",
      "userId": "00824541409552341256"
     },
     "user_tz": 180
    },
    "id": "Z1CLAQOS8Wj4",
    "outputId": "3bc15ce7-ebdd-4ed3-cfba-fb15580e1702"
   },
   "outputs": [
    {
     "name": "stdout",
     "output_type": "stream",
     "text": [
      "Matriz U:\n",
      "   0.31146   -0.93741    0.15576 \n",
      "   0.15582   -0.11132   -0.98149 \n",
      "   0.93740    0.32997    0.11140 \n",
      "Matriz E:\n",
      "  65.50426    0.00000    0.00000    0.00000    0.00000 \n",
      "   0.00000   40.84672    0.00000    0.00000    0.00000 \n",
      "   0.00000    0.00000   21.90292    0.00000    0.00000 \n",
      "Matriz V:\n",
      "   0.29270   -0.92358    0.19477   -0.00209   -0.15293 \n",
      "   0.11908   -0.09104   -0.85454   -0.39258   -0.30523 \n",
      "   0.91098    0.34417    0.17366   -0.09404   -0.11249 \n",
      "   0.14540   -0.00580   -0.34839    0.91489   -0.14289 \n",
      "   0.22162   -0.14221   -0.28335    0.00000    0.92216 \n"
     ]
    }
   ],
   "source": [
    "print(\"Matriz U:\")\n",
    "printMatrix(U)\n",
    "print(\"Matriz E:\")\n",
    "printMatrix(E)\n",
    "print(\"Matriz V:\")\n",
    "printMatrix(V)"
   ]
  },
  {
   "cell_type": "code",
   "execution_count": 21,
   "metadata": {
    "colab": {
     "base_uri": "https://localhost:8080/",
     "height": 153
    },
    "colab_type": "code",
    "executionInfo": {
     "elapsed": 1531,
     "status": "ok",
     "timestamp": 1562160406211,
     "user": {
      "displayName": "Daniel Nogueira",
      "photoUrl": "",
      "userId": "00824541409552341256"
     },
     "user_tz": 180
    },
    "id": "jfguKVNl8Wj7",
    "outputId": "8a759e3d-1455-4734-a009-a6635ac99800"
   },
   "outputs": [
    {
     "name": "stdout",
     "output_type": "stream",
     "text": [
      "Matrix A:\n",
      "  42.00000    3.00000    6.00000    2.00000    9.00000 \n",
      "   3.00000   20.00000    4.00000    9.00000    9.00000 \n",
      "   6.00000    4.00000   61.00000    8.00000   11.00000 \n",
      "Matrix U.E.V^t:\n",
      "  42.00000    3.00000    6.00000    2.00000    9.00000 \n",
      "   3.00000   20.00000    4.00000    9.00000    9.00000 \n",
      "   6.00000    4.00000   61.00000    8.00000   11.00000 \n"
     ]
    }
   ],
   "source": [
    "print(\"Matrix A:\")\n",
    "printMatrix(A)\n",
    "print(\"Matrix U.E.V^t:\")\n",
    "printMatrix(matrixByMatrix(matrixByMatrix(U,E),Transposta(V)))"
   ]
  },
  {
   "cell_type": "markdown",
   "metadata": {
    "colab_type": "text",
    "id": "f1VB2x598Wj_"
   },
   "source": [
    "# Ajustando para A = UEV^t"
   ]
  },
  {
   "cell_type": "code",
   "execution_count": 22,
   "metadata": {
    "colab": {
     "base_uri": "https://localhost:8080/",
     "height": 1000
    },
    "colab_type": "code",
    "executionInfo": {
     "elapsed": 1800,
     "status": "ok",
     "timestamp": 1562160406498,
     "user": {
      "displayName": "Daniel Nogueira",
      "photoUrl": "",
      "userId": "00824541409552341256"
     },
     "user_tz": 180
    },
    "id": "YSqNxua28Wj_",
    "outputId": "e4fcc744-2a82-4649-b999-d7520565e492"
   },
   "outputs": [
    {
     "name": "stdout",
     "output_type": "stream",
     "text": [
      "Case 1 1 1\n",
      "A:\n",
      "  42.00000    3.00000    6.00000    2.00000    9.00000 \n",
      "   3.00000   20.00000    4.00000    9.00000    9.00000 \n",
      "   6.00000    4.00000   61.00000    8.00000   11.00000 \n",
      "UAV^t:\n",
      "  42.00000    3.00000    6.00000    2.00000    9.00000 \n",
      "   3.00000   20.00000    4.00000    9.00000    9.00000 \n",
      "   6.00000    4.00000   61.00000    8.00000   11.00000 \n",
      "\n",
      "Case 1 1 -1\n",
      "A:\n",
      "  42.00000    3.00000    6.00000    2.00000    9.00000 \n",
      "   3.00000   20.00000    4.00000    9.00000    9.00000 \n",
      "   6.00000    4.00000   61.00000    8.00000   11.00000 \n",
      "UAV^t:\n",
      "  40.67101    8.83089    4.81503    4.37720   10.93342 \n",
      "  11.37411  -16.74118   11.46664   -5.97905   -3.18270 \n",
      "   5.04958    8.16996   60.15257    9.70006   12.38268 \n",
      "\n",
      "Case 1 -1 1\n",
      "A:\n",
      "  42.00000    3.00000    6.00000    2.00000    9.00000 \n",
      "   3.00000   20.00000    4.00000    9.00000    9.00000 \n",
      "   6.00000    4.00000   61.00000    8.00000   11.00000 \n",
      "UAV^t:\n",
      " -28.72769   -3.97189   32.35660    1.55578   -1.89057 \n",
      "  -5.39901   19.17208    7.12988    8.94725    7.70673 \n",
      "  30.89613    6.45410   51.72249    8.15637   14.83348 \n",
      "\n",
      "Case 1 -1 -1\n",
      "A:\n",
      "  42.00000    3.00000    6.00000    2.00000    9.00000 \n",
      "   3.00000   20.00000    4.00000    9.00000    9.00000 \n",
      "   6.00000    4.00000   61.00000    8.00000   11.00000 \n",
      "UAV^t:\n",
      " -30.05667    1.85899   31.17163    3.93298    0.04285 \n",
      "   2.97510  -17.56910   14.59652   -6.03180   -4.47597 \n",
      "  29.94570   10.62406   50.87506    9.85642   16.21616 \n",
      "\n",
      "Case -1 1 1\n",
      "A:\n",
      "  42.00000    3.00000    6.00000    2.00000    9.00000 \n",
      "   3.00000   20.00000    4.00000    9.00000    9.00000 \n",
      "   6.00000    4.00000   61.00000    8.00000   11.00000 \n",
      "UAV^t:\n",
      "  30.05667   -1.85899  -31.17163   -3.93298   -0.04285 \n",
      "  -2.97510   17.56910  -14.59652    6.03180    4.47597 \n",
      " -29.94570  -10.62406  -50.87506   -9.85642  -16.21616 \n",
      "\n",
      "Case -1 1 -1\n",
      "A:\n",
      "  42.00000    3.00000    6.00000    2.00000    9.00000 \n",
      "   3.00000   20.00000    4.00000    9.00000    9.00000 \n",
      "   6.00000    4.00000   61.00000    8.00000   11.00000 \n",
      "UAV^t:\n",
      "  28.72769    3.97189  -32.35660   -1.55578    1.89057 \n",
      "   5.39901  -19.17208   -7.12988   -8.94725   -7.70673 \n",
      " -30.89613   -6.45410  -51.72249   -8.15637  -14.83348 \n",
      "\n",
      "Case -1 -1 1\n",
      "A:\n",
      "  42.00000    3.00000    6.00000    2.00000    9.00000 \n",
      "   3.00000   20.00000    4.00000    9.00000    9.00000 \n",
      "   6.00000    4.00000   61.00000    8.00000   11.00000 \n",
      "UAV^t:\n",
      " -40.67101   -8.83089   -4.81503   -4.37720  -10.93342 \n",
      " -11.37411   16.74118  -11.46664    5.97905    3.18270 \n",
      "  -5.04958   -8.16996  -60.15257   -9.70006  -12.38268 \n",
      "\n",
      "Case -1 -1 -1\n",
      "A:\n",
      "  42.00000    3.00000    6.00000    2.00000    9.00000 \n",
      "   3.00000   20.00000    4.00000    9.00000    9.00000 \n",
      "   6.00000    4.00000   61.00000    8.00000   11.00000 \n",
      "UAV^t:\n",
      " -42.00000   -3.00000   -6.00000   -2.00000   -9.00000 \n",
      "  -3.00000  -20.00000   -4.00000   -9.00000   -9.00000 \n",
      "  -6.00000   -4.00000  -61.00000   -8.00000  -11.00000 \n",
      "\n"
     ]
    }
   ],
   "source": [
    "for i in [1,-1]:\n",
    "    for j in [1, -1]:\n",
    "        for k in [1, -1]:\n",
    "            Unew = [[j for j in i] for i in U] \n",
    "            Unew[0][0] = i*Unew[0][0]\n",
    "            Unew[1][0] = i*Unew[1][0]\n",
    "            Unew[2][0] = i*Unew[2][0]\n",
    "            Unew[0][1] = j*Unew[0][1]\n",
    "            Unew[1][1] = j*Unew[1][1]\n",
    "            Unew[2][1] = j*Unew[2][1]\n",
    "            Unew[0][2] = k*Unew[0][2]\n",
    "            Unew[1][2] = k*Unew[1][2]\n",
    "            Unew[2][2] = k*Unew[2][2]\n",
    "            \n",
    "            print(f\"Case {i} {j} {k}\")\n",
    "            print(\"A:\")\n",
    "            printMatrix(A)\n",
    "            print(\"UAV^t:\")\n",
    "            printMatrix(matrixByMatrix(matrixByMatrix(Unew,E),Transposta(V)))\n",
    "            print()"
   ]
  },
  {
   "cell_type": "code",
   "execution_count": null,
   "metadata": {
    "colab": {},
    "colab_type": "code",
    "id": "bSf8Mt0N8WkD"
   },
   "outputs": [],
   "source": []
  },
  {
   "cell_type": "code",
   "execution_count": null,
   "metadata": {
    "colab": {},
    "colab_type": "code",
    "id": "a0szRGOCyPVQ"
   },
   "outputs": [],
   "source": []
  },
  {
   "cell_type": "code",
   "execution_count": null,
   "metadata": {
    "colab": {},
    "colab_type": "code",
    "id": "ETbDVnjR8s0n"
   },
   "outputs": [],
   "source": []
  },
  {
   "cell_type": "code",
   "execution_count": null,
   "metadata": {
    "colab": {},
    "colab_type": "code",
    "id": "s_jtgKCVAi2s"
   },
   "outputs": [],
   "source": []
  }
 ],
 "metadata": {
  "colab": {
   "collapsed_sections": [],
   "name": "Questão 3.ipynb",
   "provenance": [],
   "version": "0.3.2"
  },
  "kernelspec": {
   "display_name": "Python 3",
   "language": "python",
   "name": "python3"
  },
  "language_info": {
   "codemirror_mode": {
    "name": "ipython",
    "version": 3
   },
   "file_extension": ".py",
   "mimetype": "text/x-python",
   "name": "python",
   "nbconvert_exporter": "python",
   "pygments_lexer": "ipython3",
   "version": "3.7.3"
  }
 },
 "nbformat": 4,
 "nbformat_minor": 1
}
