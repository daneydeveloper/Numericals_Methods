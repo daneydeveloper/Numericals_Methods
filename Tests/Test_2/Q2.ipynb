{
 "cells": [
  {
   "cell_type": "markdown",
   "metadata": {
    "colab_type": "text",
    "id": "rm9VsSuyV6ge"
   },
   "source": [
    "# Importações"
   ]
  },
  {
   "cell_type": "code",
   "execution_count": 1,
   "metadata": {
    "colab": {},
    "colab_type": "code",
    "id": "gOQDQrI3V7Bp"
   },
   "outputs": [],
   "source": [
    "import numpy as np\n",
    "from math import sqrt"
   ]
  },
  {
   "cell_type": "markdown",
   "metadata": {
    "colab_type": "text",
    "id": "c16dqWTQV9UE"
   },
   "source": [
    "# Variáveis"
   ]
  },
  {
   "cell_type": "code",
   "execution_count": 2,
   "metadata": {
    "colab": {},
    "colab_type": "code",
    "id": "Q6L76FX0WNkb"
   },
   "outputs": [],
   "source": [
    "a,b,c,d,e,f = [3,6,2,9,4,9]"
   ]
  },
  {
   "cell_type": "code",
   "execution_count": 3,
   "metadata": {
    "colab": {
     "base_uri": "https://localhost:8080/",
     "height": 153
    },
    "colab_type": "code",
    "executionInfo": {
     "elapsed": 738,
     "status": "ok",
     "timestamp": 1562164318731,
     "user": {
      "displayName": "Daniel Nogueira",
      "photoUrl": "",
      "userId": "00824541409552341256"
     },
     "user_tz": 180
    },
    "id": "J-hgxDqtWTrb",
    "outputId": "19ac4bc4-b6db-4ee3-bb49-ab8a81eba89e"
   },
   "outputs": [
    {
     "name": "stdout",
     "output_type": "stream",
     "text": [
      "Constantes:\n",
      "Número de Partições (N): 5\n",
      "Tensão (T): 11\n",
      "Pressão Constante (P): 22\n",
      "Valores de Contorno:\n",
      "Esquerda: 0.2\n",
      "Direita: 0.5\n",
      "Delta r: 0.06\n"
     ]
    }
   ],
   "source": [
    "N = 4 + ((a + b + c + d + e + f) % 4)\n",
    "# N = \n",
    "T = (a + b + c)\n",
    "P = (d + e + f)\n",
    "\n",
    "left = 0.2\n",
    "right = 0.5\n",
    "\n",
    "dr = (right - left)/N\n",
    "\n",
    "print(\"Constantes:\")\n",
    "print(\"Número de Partições (N):\", N)\n",
    "print(\"Tensão (T):\", T)\n",
    "print(\"Pressão Constante (P):\", P)\n",
    "print(\"Valores de Contorno:\")\n",
    "print(\"Esquerda:\",left)\n",
    "print(\"Direita:\",right)\n",
    "print(\"Delta r:\",dr)"
   ]
  },
  {
   "cell_type": "markdown",
   "metadata": {
    "colab_type": "text",
    "id": "r6gR3qZ5WfzQ"
   },
   "source": [
    "# Algoritmo de Solução de Sistema Lineares com método LU"
   ]
  },
  {
   "cell_type": "code",
   "execution_count": 4,
   "metadata": {
    "colab": {},
    "colab_type": "code",
    "id": "XvYgl5XNWj1E"
   },
   "outputs": [],
   "source": [
    "def decomposicaoLU(A):\n",
    "    n = len(A)\n",
    "    L = [[0 for j in range(n)] for i in range(n)]\n",
    "    U = [[A[i][j] for j in range(n)] for i in range(n)]\n",
    "    for i in range(n):\n",
    "        L[i][i] = 1\n",
    "    for j in range(n-1):\n",
    "        for i in range(j+1, n):\n",
    "            L[i][j] = U[i][j]/U[j][j]\n",
    "            for k in range(j+1, n):\n",
    "                U[i][k] -= L[i][j] * U[j][k]\n",
    "            U[i][j] = 0\n",
    "    return [L, U]"
   ]
  },
  {
   "cell_type": "code",
   "execution_count": 5,
   "metadata": {
    "colab": {},
    "colab_type": "code",
    "id": "6ZqTO7zoWzFd"
   },
   "outputs": [],
   "source": [
    "def solverLU(A, b):\n",
    "    # Ax = b -> L(Ux) = b -> Ly = b\n",
    "    n = len(A)\n",
    "    L, U = decomposicaoLU(A)\n",
    "    \n",
    "    # Finding y for Ly = b\n",
    "    y = [i for i in b]\n",
    "    for i in range(n):\n",
    "        for j in range(0,i):\n",
    "            y[i] -= L[i][j] * y[j]\n",
    "    \n",
    "    # Finding x for Ux = y\n",
    "    x = [i for i in y]\n",
    "    for i in range(n-1,-1,-1):\n",
    "        for j in range(n-1,i,-1):\n",
    "            x[i] -= U[i][j] * x[j]\n",
    "        x[i] = x[i]/U[i][i]\n",
    "    \n",
    "    return x"
   ]
  },
  {
   "cell_type": "code",
   "execution_count": 6,
   "metadata": {
    "colab": {},
    "colab_type": "code",
    "id": "In4bnNuCj3dm"
   },
   "outputs": [],
   "source": [
    "def printMatrix(A):\n",
    "    for i in A:\n",
    "        for j in i:\n",
    "            s = \"%.5f\" % j\n",
    "            print(\"%10s\" % s, end = \" \")\n",
    "        print()"
   ]
  },
  {
   "cell_type": "markdown",
   "metadata": {
    "colab_type": "text",
    "id": "UBUmbjFAW0lO"
   },
   "source": [
    "# Montagem da Matriz de Composição das Diferenças Finitas"
   ]
  },
  {
   "cell_type": "code",
   "execution_count": 7,
   "metadata": {
    "colab": {},
    "colab_type": "code",
    "id": "LhU6BpvUW8eI"
   },
   "outputs": [],
   "source": [
    "u = [lambda r: (1/(dr*dr)) - (1/(2*dr*r)),\n",
    "     lambda r: -2/(dr*dr)             ,\n",
    "     lambda r: (1/(dr*dr)) + (1/(2*dr*r))]"
   ]
  },
  {
   "cell_type": "code",
   "execution_count": 8,
   "metadata": {
    "colab": {
     "base_uri": "https://localhost:8080/",
     "height": 85
    },
    "colab_type": "code",
    "executionInfo": {
     "elapsed": 706,
     "status": "ok",
     "timestamp": 1562164318751,
     "user": {
      "displayName": "Daniel Nogueira",
      "photoUrl": "",
      "userId": "00824541409552341256"
     },
     "user_tz": 180
    },
    "id": "e-mMw9PeXBg6",
    "outputId": "833b333c-04bb-4a9e-cd75-76bf2dc286bb"
   },
   "outputs": [
    {
     "name": "stdout",
     "output_type": "stream",
     "text": [
      "-555.55556  309.82906    0.00000    0.00000 \n",
      " 251.73611 -555.55556  303.81944    0.00000 \n",
      "   0.00000  255.84795 -555.55556  299.70760 \n",
      "   0.00000    0.00000  258.83838 -555.55556 \n"
     ]
    }
   ],
   "source": [
    "A = [[   u[1](left+dr),   u[2](left+dr),             0.0,             0.0],\n",
    "     [ u[0](left+2*dr), u[1](left+2*dr), u[2](left+2*dr),             0.0],\n",
    "     [             0.0, u[0](left+3*dr), u[1](left+3*dr), u[2](left+3*dr)],\n",
    "     [             0.0,             0.0, u[0](left+4*dr), u[1](left+4*dr)]]\n",
    "printMatrix(A)"
   ]
  },
  {
   "cell_type": "code",
   "execution_count": 9,
   "metadata": {
    "colab": {
     "base_uri": "https://localhost:8080/",
     "height": 34
    },
    "colab_type": "code",
    "executionInfo": {
     "elapsed": 674,
     "status": "ok",
     "timestamp": 1562164318752,
     "user": {
      "displayName": "Daniel Nogueira",
      "photoUrl": "",
      "userId": "00824541409552341256"
     },
     "user_tz": 180
    },
    "id": "T5Y3ir2kYBdv",
    "outputId": "97848584-229e-43b2-fab7-452aa49eae99"
   },
   "outputs": [
    {
     "name": "stdout",
     "output_type": "stream",
     "text": [
      "[-2.0, -2.0, -2.0, -2.0]\n"
     ]
    }
   ],
   "source": [
    "b = [-P/T]*(N - 1)\n",
    "print(b)"
   ]
  },
  {
   "cell_type": "markdown",
   "metadata": {
    "colab_type": "text",
    "id": "6_8cGh_EjQYl"
   },
   "source": [
    "# Resultados"
   ]
  },
  {
   "cell_type": "code",
   "execution_count": 10,
   "metadata": {
    "colab": {
     "base_uri": "https://localhost:8080/",
     "height": 102
    },
    "colab_type": "code",
    "executionInfo": {
     "elapsed": 635,
     "status": "ok",
     "timestamp": 1562164318753,
     "user": {
      "displayName": "Daniel Nogueira",
      "photoUrl": "",
      "userId": "00824541409552341256"
     },
     "user_tz": 180
    },
    "id": "MDsF1GnYVBsb",
    "outputId": "647adced-974a-4a4c-d728-08dc143d5a6f"
   },
   "outputs": [
    {
     "name": "stdout",
     "output_type": "stream",
     "text": [
      "Resultados\n",
      "y(0.26) = 0.016194998399984575\n",
      "y(0.32) = 0.02258413506204131\n",
      "y(0.38) = 0.021295134010602602\n",
      "y(0.44) = 0.013521596527667122\n"
     ]
    }
   ],
   "source": [
    "valores = solverLU(A,b)\n",
    "print(\"Resultados\")\n",
    "for i in range(1,N):\n",
    "    print(f\"y({left + dr*i}) = {valores[i-1]}\")"
   ]
  }
 ],
 "metadata": {
  "colab": {
   "collapsed_sections": [],
   "name": "Questão 2.ipynb",
   "provenance": [],
   "version": "0.3.2"
  },
  "kernelspec": {
   "display_name": "Python 3",
   "language": "python",
   "name": "python3"
  },
  "language_info": {
   "codemirror_mode": {
    "name": "ipython",
    "version": 3
   },
   "file_extension": ".py",
   "mimetype": "text/x-python",
   "name": "python",
   "nbconvert_exporter": "python",
   "pygments_lexer": "ipython3",
   "version": "3.7.3"
  }
 },
 "nbformat": 4,
 "nbformat_minor": 1
}
