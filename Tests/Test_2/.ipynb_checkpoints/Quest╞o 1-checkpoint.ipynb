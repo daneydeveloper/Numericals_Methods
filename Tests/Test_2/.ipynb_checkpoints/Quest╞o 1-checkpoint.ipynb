{
 "cells": [
  {
   "cell_type": "markdown",
   "metadata": {
    "colab_type": "text",
    "id": "rm9VsSuyV6ge"
   },
   "source": [
    "# Importações"
   ]
  },
  {
   "cell_type": "code",
   "execution_count": 1,
   "metadata": {
    "colab": {},
    "colab_type": "code",
    "id": "gOQDQrI3V7Bp"
   },
   "outputs": [],
   "source": [
    "import numpy as np\n",
    "from math import sqrt"
   ]
  },
  {
   "cell_type": "markdown",
   "metadata": {
    "colab_type": "text",
    "id": "c16dqWTQV9UE"
   },
   "source": [
    "# Variáveis"
   ]
  },
  {
   "cell_type": "code",
   "execution_count": 2,
   "metadata": {
    "colab": {},
    "colab_type": "code",
    "id": "Q6L76FX0WNkb"
   },
   "outputs": [],
   "source": [
    "a,b,c,d,e,f = [3,6,2,9,4,9]\n",
    "tolerancia = 0.05"
   ]
  },
  {
   "cell_type": "code",
   "execution_count": 3,
   "metadata": {
    "colab": {
     "base_uri": "https://localhost:8080/",
     "height": 154
    },
    "colab_type": "code",
    "executionInfo": {
     "elapsed": 727,
     "status": "ok",
     "timestamp": 1562162177283,
     "user": {
      "displayName": "Daniel Nogueira",
      "photoUrl": "",
      "userId": "00824541409552341256"
     },
     "user_tz": 180
    },
    "id": "J-hgxDqtWTrb",
    "outputId": "5d747b10-2472-4598-cd5b-fdd9c57ce5b8"
   },
   "outputs": [
    {
     "name": "stdout",
     "output_type": "stream",
     "text": [
      "Constantes:\n",
      "Massa (m): 2\n",
      "Rigidez (k): 4\n",
      "Frequencia de Vibração (w): 1.4142135623730951\n",
      "Fator de Amortecimento (Z): 0.05\n",
      "Valores Iniciais:\n",
      "Posição Inicial: 1\n",
      "Velocidade: 0\n"
     ]
    }
   ],
   "source": [
    "m = 1 + (a + b + c + d + e + f) % 4\n",
    "k = 4\n",
    "w = sqrt(k/m)\n",
    "Z = 0.05\n",
    "fe = lambda t : (4 * t) if t <= 0.5 else (4 * (1 - t)) if t <= 1.0 else 0\n",
    "\n",
    "v0 = 0\n",
    "x0 = (e + f)%3\n",
    "\n",
    "print(\"Constantes:\")\n",
    "print(f\"Massa (m): {m}\")\n",
    "print(f\"Rigidez (k): {k}\")\n",
    "print(f\"Frequencia de Vibração (w): {w}\")\n",
    "print(f\"Fator de Amortecimento (Z): {Z}\")\n",
    "print(\"Valores Iniciais:\")\n",
    "print(f\"Posição Inicial: {x0}\")\n",
    "print(f\"Velocidade: {v0}\")"
   ]
  },
  {
   "cell_type": "markdown",
   "metadata": {
    "colab_type": "text",
    "id": "r6gR3qZ5WfzQ"
   },
   "source": [
    "# Estrutura (S) e Derivada (dS)\n",
    "#### S = (v, x)\n",
    "#### dS = (dv, dx) = (f(t)/m - 2Zwv + w²x, v)"
   ]
  },
  {
   "cell_type": "code",
   "execution_count": 4,
   "metadata": {
    "colab": {},
    "colab_type": "code",
    "id": "XvYgl5XNWj1E"
   },
   "outputs": [],
   "source": [
    "class S:\n",
    "    def __init__(self, v, x):\n",
    "        self.v = v\n",
    "        self.x = x\n",
    "        \n",
    "    def __add__(self, other):\n",
    "        return S(self.v+other.v, self.x+other.x)\n",
    "    def __sub__(self, other):\n",
    "        return S(self.v-other.v, self.x-other.x)\n",
    "    def __mul__(self, value):\n",
    "        if type(value) is not int and type(value) is not float:\n",
    "            raise Exception('MultiplicationError')\n",
    "        return S(self.v*value, self.x*value)\n",
    "    def __truediv__(self, value):\n",
    "        if type(value) is not int and type(value) is not float:\n",
    "            raise Exception('DivisionError')\n",
    "        return S(self.v/value, self.x/value)\n",
    "    \n",
    "    def __radd__(self, other):\n",
    "        return S(self.v+other.v, self.x+other.x)\n",
    "    def __rsub__(self, other):\n",
    "        return S(self.v-other.v, self.x-other.x)\n",
    "    def __rmul__(self, value):\n",
    "        if type(value) is not int and type(value) is not float:\n",
    "            raise Exception('MultiplicationError')\n",
    "        return S(self.v*value, self.x*value)\n",
    "    def __rtruediv__(self, value):\n",
    "        if type(value) is not int and type(value) is not float:\n",
    "            raise Exception('DivisionError')\n",
    "        return S(self.v/value, self.x/value)\n",
    "    \n",
    "    def __str__(self):\n",
    "        return f\"(v={self.v}, x={self.x})\""
   ]
  },
  {
   "cell_type": "code",
   "execution_count": 5,
   "metadata": {
    "colab": {},
    "colab_type": "code",
    "id": "6ZqTO7zoWzFd"
   },
   "outputs": [],
   "source": [
    "F = lambda si, t: S(fe(t)/m - 2*Z*w*si.v - w*w*si.x, si.v)"
   ]
  },
  {
   "cell_type": "code",
   "execution_count": 6,
   "metadata": {
    "colab": {},
    "colab_type": "code",
    "id": "HZxalcIPW0GX"
   },
   "outputs": [],
   "source": [
    "s0 = S(v0, x0)"
   ]
  },
  {
   "cell_type": "markdown",
   "metadata": {
    "colab_type": "text",
    "id": "UBUmbjFAW0lO"
   },
   "source": [
    "# Método Runge-Kutta de Quarta Ordem"
   ]
  },
  {
   "cell_type": "code",
   "execution_count": 7,
   "metadata": {
    "colab": {},
    "colab_type": "code",
    "id": "LhU6BpvUW8eI"
   },
   "outputs": [],
   "source": [
    "class RungeKutta4th:\n",
    "    def __init__(self, s0, dt, F):\n",
    "        self.s0 = s0\n",
    "        self.dt = dt\n",
    "        self.F = F\n",
    "    \n",
    "    def solve(self, t):\n",
    "        s = self.s0\n",
    "        h = self.dt\n",
    "        ti = 0.0\n",
    "        while ti < t:\n",
    "            k1 = self.F(s, ti)\n",
    "            k2 = self.F(s + (h/2) * k1, ti + (h/2))\n",
    "            k3 = self.F(s + (h/2) * k2, ti + (h/2))\n",
    "            k4 = self.F(s + h * k3, ti + h)\n",
    "            s = s + h * (k1 + 2*k2 + 2*k3 + k4) / 6\n",
    "            ti += self.dt\n",
    "        return (ti, s)"
   ]
  },
  {
   "cell_type": "markdown",
   "metadata": {
    "colab_type": "text",
    "id": "phR6m6INW-re"
   },
   "source": [
    "# Resolução para t=1.2s"
   ]
  },
  {
   "cell_type": "code",
   "execution_count": 8,
   "metadata": {
    "colab": {},
    "colab_type": "code",
    "id": "e-mMw9PeXBg6"
   },
   "outputs": [],
   "source": [
    "def resolucao(tol, s0, F, tf, ti):\n",
    "  R = RungeKutta4th(s0, ti, F)\n",
    "  _, s = R.solve(tf)\n",
    "  print(s)\n",
    "  x_k1 = s.x\n",
    "  while True:\n",
    "    ti /= 2\n",
    "    R = RungeKutta4th(s0, ti, F)\n",
    "    _, s = R.solve(tf)\n",
    "    print(s)\n",
    "    x_k2 = s.x\n",
    "    if abs(x_k2 - x_k1)/x_k1 <= tol:\n",
    "      break\n",
    "    x_k1 = x_k2\n",
    "  return x_k1"
   ]
  },
  {
   "cell_type": "code",
   "execution_count": 9,
   "metadata": {
    "colab": {
     "base_uri": "https://localhost:8080/",
     "height": 68
    },
    "colab_type": "code",
    "executionInfo": {
     "elapsed": 517,
     "status": "ok",
     "timestamp": 1562163685468,
     "user": {
      "displayName": "Daniel Nogueira",
      "photoUrl": "",
      "userId": "00824541409552341256"
     },
     "user_tz": 180
    },
    "id": "T5Y3ir2kYBdv",
    "outputId": "341d154b-9f8d-4c19-bba1-e8859c616849"
   },
   "outputs": [
    {
     "name": "stdout",
     "output_type": "stream",
     "text": [
      "(v=-1.0572785603349992, x=0.20108961512438533)\n",
      "(v=-1.0572769036501668, x=0.20108694976662858)\n",
      "Para t=1.2s usando método Runge-Kutta de 4th Ordem para tolerancia 0.05 obtemos x=0.20108961512438533\n"
     ]
    }
   ],
   "source": [
    "resposta = resolucao(tolerancia, s0, F, 1.2, 0.1)\n",
    "print(f\"Para t=1.2s usando método Runge-Kutta de 4th Ordem para tolerancia {tolerancia} obtemos x={resposta}\")"
   ]
  },
  {
   "cell_type": "code",
   "execution_count": 10,
   "metadata": {
    "colab": {
     "base_uri": "https://localhost:8080/",
     "height": 34
    },
    "colab_type": "code",
    "executionInfo": {
     "elapsed": 493,
     "status": "ok",
     "timestamp": 1562163687174,
     "user": {
      "displayName": "Daniel Nogueira",
      "photoUrl": "",
      "userId": "00824541409552341256"
     },
     "user_tz": 180
    },
    "id": "s34agXc7VBDE",
    "outputId": "10a05074-da2d-4c72-e347-012a66c0eb42"
   },
   "outputs": [
    {
     "data": {
      "text/plain": [
       "202.02020202020202"
      ]
     },
     "execution_count": 10,
     "metadata": {},
     "output_type": "execute_result"
    }
   ],
   "source": [
    "1/0.005625 + 1/(0.15*0.275)"
   ]
  },
  {
   "cell_type": "code",
   "execution_count": null,
   "metadata": {
    "colab": {},
    "colab_type": "code",
    "id": "MDsF1GnYVBsb"
   },
   "outputs": [],
   "source": []
  }
 ],
 "metadata": {
  "colab": {
   "collapsed_sections": [],
   "name": "Questão 1.ipynb",
   "provenance": [],
   "version": "0.3.2"
  },
  "kernelspec": {
   "display_name": "Python 3",
   "language": "python",
   "name": "python3"
  },
  "language_info": {
   "codemirror_mode": {
    "name": "ipython",
    "version": 3
   },
   "file_extension": ".py",
   "mimetype": "text/x-python",
   "name": "python",
   "nbconvert_exporter": "python",
   "pygments_lexer": "ipython3",
   "version": "3.7.3"
  }
 },
 "nbformat": 4,
 "nbformat_minor": 1
}
