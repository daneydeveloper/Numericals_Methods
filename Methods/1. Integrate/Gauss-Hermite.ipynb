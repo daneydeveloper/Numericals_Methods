{
 "cells": [
  {
   "cell_type": "markdown",
   "metadata": {
    "colab_type": "text",
    "id": "k1ghuC5yYPe4"
   },
   "source": [
    "# Importações"
   ]
  },
  {
   "cell_type": "code",
   "execution_count": 1,
   "metadata": {
    "colab": {},
    "colab_type": "code",
    "id": "vZ7ajadhYKN4"
   },
   "outputs": [],
   "source": [
    "from math import cos\n",
    "from math import sin\n",
    "from math import tan\n",
    "from math import acos\n",
    "from math import asin\n",
    "from math import atan\n",
    "from math import pi\n",
    "from math import exp\n",
    "from math import sqrt"
   ]
  },
  {
   "cell_type": "markdown",
   "metadata": {
    "colab_type": "text",
    "id": "Gaai6QhCYLND"
   },
   "source": [
    "# Método Gauss-Hermite"
   ]
  },
  {
   "cell_type": "code",
   "execution_count": 2,
   "metadata": {
    "colab": {},
    "colab_type": "code",
    "id": "h9lAYtg2NPku"
   },
   "outputs": [],
   "source": [
    "class GaussHermite():\n",
    "  def __init__(self, f):\n",
    "    self.__degree = {\n",
    "        2 : self.__degree_2,\n",
    "        3 : self.__degree_3,\n",
    "        4 : self.__degree_4\n",
    "    }\n",
    "    \n",
    "    self.__function = f\n",
    "    \n",
    "  def solve(self, degree):\n",
    "    degree = self.__degree[degree]\n",
    "    return degree(self.__function)\n",
    "  \n",
    "  def __degree_2(self, f):\n",
    "    N = 2\n",
    "    roots = [\n",
    "        -0.70710678,\n",
    "         0.70710678\n",
    "    ]\n",
    "    weights = [\n",
    "        0.88622692,\n",
    "        0.88622692\n",
    "    ]\n",
    "    I = 0\n",
    "    for i in range(N):\n",
    "      I += weights[i] * f(roots[i])\n",
    "    return I\n",
    "  \n",
    "  def __degree_3(self, f):\n",
    "    N = 3\n",
    "    roots = [\n",
    "        -1.22474487,\n",
    "         0.00000000,\n",
    "         1.22474487\n",
    "    ]\n",
    "    weights = [\n",
    "         0.29540897,\n",
    "         1.18163590,\n",
    "         0.29540897\n",
    "    ]\n",
    "    I = 0\n",
    "    for i in range(N):\n",
    "      I += weights[i] * f(roots[i])\n",
    "    return I\n",
    "  \n",
    "  def __degree_4(self, f):\n",
    "    N = 4\n",
    "    roots = [\n",
    "        -1.65068012,\n",
    "        -0.52464762,\n",
    "         0.52464762,\n",
    "         1.65068012\n",
    "    ]\n",
    "    weights = [\n",
    "         0.08131283,\n",
    "         0.80491409,\n",
    "         0.80491409,\n",
    "         0.08131283\n",
    "    ]\n",
    "    I = 0\n",
    "    for i in range(N):\n",
    "      I += weights[i] * f(roots[i])\n",
    "    return I"
   ]
  },
  {
   "cell_type": "markdown",
   "metadata": {
    "colab_type": "text",
    "id": "XecB1mRrYFK9"
   },
   "source": [
    "# Funções"
   ]
  },
  {
   "cell_type": "code",
   "execution_count": 3,
   "metadata": {
    "colab": {},
    "colab_type": "code",
    "id": "CDN1w6JJUZah"
   },
   "outputs": [],
   "source": [
    "flinear = lambda x : x\n",
    "flouco = lambda x : x**3 + 38 * x + 1\n",
    "fsin = lambda x : sin(x)\n",
    "flinearmodulo = lambda x : abs(x)\n",
    "fexemplo = lambda x : sqrt(1 + x**2)"
   ]
  },
  {
   "cell_type": "markdown",
   "metadata": {
    "colab_type": "text",
    "id": "DKoJM7zLYHJz"
   },
   "source": [
    "# Valores"
   ]
  },
  {
   "cell_type": "code",
   "execution_count": 4,
   "metadata": {
    "colab": {},
    "colab_type": "code",
    "id": "tDRUhIqLUe2R"
   },
   "outputs": [],
   "source": [
    "degree = 4                    # 2, 3 or 4 Points of Hermite\n",
    "function = fsin      # Function to integrate"
   ]
  },
  {
   "cell_type": "markdown",
   "metadata": {
    "colab_type": "text",
    "id": "uFBRAkP0YJFx"
   },
   "source": [
    "# Resultados"
   ]
  },
  {
   "cell_type": "code",
   "execution_count": 5,
   "metadata": {
    "colab": {
     "base_uri": "https://localhost:8080/",
     "height": 34
    },
    "colab_type": "code",
    "executionInfo": {
     "elapsed": 784,
     "status": "ok",
     "timestamp": 1562034873686,
     "user": {
      "displayName": "Daniel Nogueira",
      "photoUrl": "",
      "userId": "00824541409552341256"
     },
     "user_tz": 180
    },
    "id": "_UpVZbiqURAG",
    "outputId": "b913dab5-34c8-42e9-8681-27e2c940639f"
   },
   "outputs": [
    {
     "name": "stdout",
     "output_type": "stream",
     "text": [
      "Integração nos intervalos [-INFINITO, +INFINITO] com 4 pontos de Hermite: 1.3877787807814457e-17\n"
     ]
    }
   ],
   "source": [
    "f = GaussHermite(function)\n",
    "result = f.solve(degree)\n",
    "print(f\"Integração nos intervalos [-INFINITO, +INFINITO] com {degree} pontos de Hermite: {result}\")"
   ]
  }
 ],
 "metadata": {
  "colab": {
   "collapsed_sections": [],
   "name": "Gauss-Hermite.ipynb",
   "provenance": [],
   "version": "0.3.2"
  },
  "kernelspec": {
   "display_name": "Python 3",
   "language": "python",
   "name": "python3"
  },
  "language_info": {
   "codemirror_mode": {
    "name": "ipython",
    "version": 3
   },
   "file_extension": ".py",
   "mimetype": "text/x-python",
   "name": "python",
   "nbconvert_exporter": "python",
   "pygments_lexer": "ipython3",
   "version": "3.7.3"
  }
 },
 "nbformat": 4,
 "nbformat_minor": 1
}
