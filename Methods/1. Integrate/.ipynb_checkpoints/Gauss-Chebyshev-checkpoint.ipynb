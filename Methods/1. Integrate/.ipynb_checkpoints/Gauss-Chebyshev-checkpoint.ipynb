{
 "cells": [
  {
   "cell_type": "markdown",
   "metadata": {
    "colab_type": "text",
    "id": "k1ghuC5yYPe4"
   },
   "source": [
    "# Importações"
   ]
  },
  {
   "cell_type": "code",
   "execution_count": 1,
   "metadata": {
    "colab": {},
    "colab_type": "code",
    "id": "vZ7ajadhYKN4"
   },
   "outputs": [],
   "source": [
    "from math import cos\n",
    "from math import sin\n",
    "from math import tan\n",
    "from math import acos\n",
    "from math import asin\n",
    "from math import atan\n",
    "from math import pi\n",
    "from math import exp\n",
    "from math import sqrt"
   ]
  },
  {
   "cell_type": "markdown",
   "metadata": {
    "colab_type": "text",
    "id": "Gaai6QhCYLND"
   },
   "source": [
    "# Método Gauss-Chebyshev"
   ]
  },
  {
   "cell_type": "code",
   "execution_count": 2,
   "metadata": {
    "colab": {},
    "colab_type": "code",
    "id": "h9lAYtg2NPku"
   },
   "outputs": [],
   "source": [
    "class GaussChebyshev():\n",
    "  def __init__(self, f):\n",
    "    self.__function = f\n",
    "    \n",
    "  def solve(self, degree):\n",
    "    function = self.__function\n",
    "    N = degree\n",
    "    roots = [cos(((i - (1/2)) / N) * pi) for i in range(1,N+1)]\n",
    "    weight = (pi / N)\n",
    "    I = 0\n",
    "    for i in range(N):\n",
    "      I += function(roots[i])\n",
    "    I = weight * I\n",
    "    return I"
   ]
  },
  {
   "cell_type": "markdown",
   "metadata": {
    "colab_type": "text",
    "id": "XecB1mRrYFK9"
   },
   "source": [
    "# Funções"
   ]
  },
  {
   "cell_type": "code",
   "execution_count": 3,
   "metadata": {
    "colab": {},
    "colab_type": "code",
    "id": "CDN1w6JJUZah"
   },
   "outputs": [],
   "source": [
    "flinear = lambda x : x\n",
    "fquad = lambda x : x**2\n",
    "flouco = lambda x : x**3 + 38 * x + 1\n",
    "fsin = lambda x : sin(x)\n",
    "flinearmodulo = lambda x : abs(x)\n",
    "fexemplo = lambda x : sqrt(1 + x**2)"
   ]
  },
  {
   "cell_type": "markdown",
   "metadata": {
    "colab_type": "text",
    "id": "DKoJM7zLYHJz"
   },
   "source": [
    "# Valores"
   ]
  },
  {
   "cell_type": "code",
   "execution_count": 4,
   "metadata": {
    "colab": {},
    "colab_type": "code",
    "id": "tDRUhIqLUe2R"
   },
   "outputs": [],
   "source": [
    "degree = 4                    # Points of Chebyshev\n",
    "function = fsin              # Function to integrate"
   ]
  },
  {
   "cell_type": "markdown",
   "metadata": {
    "colab_type": "text",
    "id": "uFBRAkP0YJFx"
   },
   "source": [
    "# Resultados"
   ]
  },
  {
   "cell_type": "code",
   "execution_count": 5,
   "metadata": {
    "colab": {
     "base_uri": "https://localhost:8080/",
     "height": 34
    },
    "colab_type": "code",
    "executionInfo": {
     "elapsed": 898,
     "status": "ok",
     "timestamp": 1562164933307,
     "user": {
      "displayName": "Daniel Nogueira",
      "photoUrl": "",
      "userId": "00824541409552341256"
     },
     "user_tz": 180
    },
    "id": "_UpVZbiqURAG",
    "outputId": "c3ee928c-1529-42af-8b90-f878c52e4e2e"
   },
   "outputs": [
    {
     "name": "stdout",
     "output_type": "stream",
     "text": [
      "Integração nos intervalos [-1, 1] com 4 pontos de Chebyshev: 8.71967124502158e-17\n"
     ]
    }
   ],
   "source": [
    "f = GaussChebyshev(function)\n",
    "result = f.solve(degree)\n",
    "print(f\"Integração nos intervalos [-1, 1] com {degree} pontos de Chebyshev: {result}\")"
   ]
  }
 ],
 "metadata": {
  "colab": {
   "collapsed_sections": [],
   "name": "Gauss-Chebyshev.ipynb",
   "provenance": [],
   "version": "0.3.2"
  },
  "kernelspec": {
   "display_name": "Python 3",
   "language": "python",
   "name": "python3"
  },
  "language_info": {
   "codemirror_mode": {
    "name": "ipython",
    "version": 3
   },
   "file_extension": ".py",
   "mimetype": "text/x-python",
   "name": "python",
   "nbconvert_exporter": "python",
   "pygments_lexer": "ipython3",
   "version": "3.7.3"
  }
 },
 "nbformat": 4,
 "nbformat_minor": 1
}
