{
 "cells": [
  {
   "cell_type": "markdown",
   "metadata": {
    "colab_type": "text",
    "id": "k1ghuC5yYPe4"
   },
   "source": [
    "# Importações"
   ]
  },
  {
   "cell_type": "code",
   "execution_count": 0,
   "metadata": {
    "colab": {},
    "colab_type": "code",
    "id": "vZ7ajadhYKN4"
   },
   "outputs": [],
   "source": [
    "from math import cos\n",
    "from math import sin\n",
    "from math import tan\n",
    "from math import acos\n",
    "from math import asin\n",
    "from math import atan\n",
    "from math import pi\n",
    "from math import exp\n",
    "from math import sqrt"
   ]
  },
  {
   "cell_type": "markdown",
   "metadata": {
    "colab_type": "text",
    "id": "Gaai6QhCYLND"
   },
   "source": [
    "# Método Gauss-Laguerre"
   ]
  },
  {
   "cell_type": "code",
   "execution_count": 0,
   "metadata": {
    "colab": {},
    "colab_type": "code",
    "id": "h9lAYtg2NPku"
   },
   "outputs": [],
   "source": [
    "class GaussLaguerre():\n",
    "  def __init__(self, f):\n",
    "    self.__degree = {\n",
    "        2 : self.__degree_2,\n",
    "        3 : self.__degree_3,\n",
    "        4 : self.__degree_4\n",
    "    }\n",
    "    \n",
    "    self.__function = f\n",
    "    \n",
    "  def solve(self, degree):\n",
    "    degree = self.__degree[degree]\n",
    "    return degree(self.__function)\n",
    "  \n",
    "  def __degree_2(self, f):\n",
    "    N = 2\n",
    "    roots = [\n",
    "        0.58578643,\n",
    "        3.41421356\n",
    "    ]\n",
    "    weights = [\n",
    "        0.85355339,\n",
    "        0.14644660\n",
    "    ]\n",
    "    I = 0\n",
    "    for i in range(N):\n",
    "      I += weights[i] * f(roots[i])\n",
    "    return I\n",
    "  \n",
    "  def __degree_3(self, f):\n",
    "    N = 3\n",
    "    roots = [\n",
    "        0.41577455,\n",
    "        2.24428036,\n",
    "        6.28994508\n",
    "    ]\n",
    "    weights = [\n",
    "         0.71109300,\n",
    "         0.27851973,\n",
    "         0.01038926\n",
    "    ]\n",
    "    I = 0\n",
    "    for i in range(N):\n",
    "      I += weights[i] * f(roots[i])\n",
    "    return I\n",
    "  \n",
    "  def __degree_4(self, f):\n",
    "    N = 4\n",
    "    roots = [\n",
    "        0.32254768,\n",
    "        1.74576110,\n",
    "        4.53662029,\n",
    "        9.39507091\n",
    "    ]\n",
    "    weights = [\n",
    "         0.60315410,\n",
    "         0.35741869,\n",
    "         0.03888791,\n",
    "         0.00053929\n",
    "    ]\n",
    "    I = 0\n",
    "    for i in range(N):\n",
    "      I += weights[i] * f(roots[i])\n",
    "    return I"
   ]
  },
  {
   "cell_type": "markdown",
   "metadata": {
    "colab_type": "text",
    "id": "XecB1mRrYFK9"
   },
   "source": [
    "# Funções"
   ]
  },
  {
   "cell_type": "code",
   "execution_count": 0,
   "metadata": {
    "colab": {},
    "colab_type": "code",
    "id": "CDN1w6JJUZah"
   },
   "outputs": [],
   "source": [
    "flinear = lambda x : x\n",
    "flouco = lambda x : x**3 + 38 * x + 1\n",
    "fsin = lambda x : sin(x)\n",
    "flinearmodulo = lambda x : abs(x)\n",
    "fexemplo = lambda x : sqrt(1 + x**2)"
   ]
  },
  {
   "cell_type": "markdown",
   "metadata": {
    "colab_type": "text",
    "id": "DKoJM7zLYHJz"
   },
   "source": [
    "# Valores"
   ]
  },
  {
   "cell_type": "code",
   "execution_count": 0,
   "metadata": {
    "colab": {},
    "colab_type": "code",
    "id": "tDRUhIqLUe2R"
   },
   "outputs": [],
   "source": [
    "degree = 4                    # 2, 3 or 4 Points of Laguerre\n",
    "function = flinearmodulo      # Function to integrate"
   ]
  },
  {
   "cell_type": "markdown",
   "metadata": {
    "colab_type": "text",
    "id": "uFBRAkP0YJFx"
   },
   "source": [
    "# Resultados"
   ]
  },
  {
   "cell_type": "code",
   "execution_count": 10,
   "metadata": {
    "colab": {
     "base_uri": "https://localhost:8080/",
     "height": 34
    },
    "colab_type": "code",
    "executionInfo": {
     "elapsed": 762,
     "status": "ok",
     "timestamp": 1562035144855,
     "user": {
      "displayName": "Daniel Nogueira",
      "photoUrl": "",
      "userId": "00824541409552341256"
     },
     "user_tz": 180
    },
    "id": "_UpVZbiqURAG",
    "outputId": "93614377-240d-4c92-93bc-cde38704dd88"
   },
   "outputs": [
    {
     "name": "stdout",
     "output_type": "stream",
     "text": [
      "Integração nos intervalos [0, INFINITO] com 4 pontos de Laguerre: 0.9999999503851947\n"
     ]
    }
   ],
   "source": [
    "f = GaussLaguerre(function)\n",
    "result = f.solve(degree)\n",
    "print(f\"Integração nos intervalos [0, INFINITO] com {degree} pontos de Laguerre: {result}\")"
   ]
  }
 ],
 "metadata": {
  "colab": {
   "collapsed_sections": [],
   "name": "Gauss-Laguerre.ipynb",
   "provenance": [],
   "version": "0.3.2"
  },
  "kernelspec": {
   "display_name": "Python 3",
   "language": "python",
   "name": "python3"
  },
  "language_info": {
   "codemirror_mode": {
    "name": "ipython",
    "version": 3
   },
   "file_extension": ".py",
   "mimetype": "text/x-python",
   "name": "python",
   "nbconvert_exporter": "python",
   "pygments_lexer": "ipython3",
   "version": "3.7.3"
  }
 },
 "nbformat": 4,
 "nbformat_minor": 1
}
