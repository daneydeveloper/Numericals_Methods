{
 "cells": [
  {
   "cell_type": "markdown",
   "metadata": {
    "colab_type": "text",
    "id": "k1ghuC5yYPe4"
   },
   "source": [
    "# Importações"
   ]
  },
  {
   "cell_type": "code",
   "execution_count": 0,
   "metadata": {
    "colab": {},
    "colab_type": "code",
    "id": "vZ7ajadhYKN4"
   },
   "outputs": [],
   "source": [
    "from math import cos\n",
    "from math import sin\n",
    "from math import tan\n",
    "from math import acos\n",
    "from math import asin\n",
    "from math import atan\n",
    "from math import pi\n",
    "from math import exp\n",
    "from math import sqrt\n",
    "from math import tanh\n",
    "from math import sinh\n",
    "from math import cosh"
   ]
  },
  {
   "cell_type": "markdown",
   "metadata": {
    "colab_type": "text",
    "id": "N0L4OTxTzpya"
   },
   "source": [
    "# Newton-Coates Integration"
   ]
  },
  {
   "cell_type": "code",
   "execution_count": 0,
   "metadata": {
    "colab": {},
    "colab_type": "code",
    "id": "FsdbAJKP0FvZ"
   },
   "outputs": [],
   "source": [
    "class NewtonCoates():\n",
    "  def __init__(self, f):\n",
    "    self.__degree = {\n",
    "        1 : self.__degree_1,\n",
    "        2 : self.__degree_2,\n",
    "        3 : self.__degree_3,\n",
    "        4 : self.__degree_4\n",
    "    }\n",
    "    \n",
    "    self.__function = f\n",
    "    \n",
    "  def solve(self, a, b, degree, resolution, tolerance=None, partition=1):\n",
    "    if tolerance != None:\n",
    "      return self.__solve_tol(a, b, degree, resolution, tolerance)\n",
    "    return self.__solve_part(a, b, degree, resolution, partition)\n",
    "      \n",
    "  def __solve_tol(self, a, b, degree, resolution, tolerance):\n",
    "    \n",
    "    partition = 1\n",
    "    I_0 = self.__solve_part(a, b, degree, resolution, partition)\n",
    "    \n",
    "    while True:\n",
    "      partition *= 2\n",
    "      I_1 = self.__solve_part(a, b, degree, resolution, partition)\n",
    "      \n",
    "      if(self.__error(I_0, I_1) <= tolerance):\n",
    "        break\n",
    "    return I_0\n",
    "  \n",
    "  def __solve_part(self, a, b, degree, resolution, partition):\n",
    "    degree = self.__degree[degree]\n",
    "    \n",
    "    x = a\n",
    "    I = 0\n",
    "    h = (b - a) / partition\n",
    "    for i in range(partition):\n",
    "      I += degree(x, x + h, self.__function, resolution)\n",
    "      x += h\n",
    "    \n",
    "    return I\n",
    "  \n",
    "  def __degree_1(self, a, b, f, resolution):\n",
    "    if resolution == 'fechada':\n",
    "      h = (b - a)\n",
    "      return (h / 2) * (f(a) + f(b))\n",
    "  \n",
    "    if resolution == 'aberta':\n",
    "      h = (b - a) / 3\n",
    "      return (3 * h / 2) * (f(a + h) + f(a + 2 * h))\n",
    "    return None\n",
    "  \n",
    "  def __degree_2(self, a, b, f, resolution):\n",
    "    if resolution == 'fechada':\n",
    "      h = (b - a) / 2\n",
    "      return (h / 3) * (f(a) + 4 * f(a + h) + f(b))\n",
    "  \n",
    "    if resolution == 'aberta':\n",
    "      h = (b - a) / 4\n",
    "      return (4 * h / 3) * (2 * f(a + h) - f(a + 2 * h) + 2 * f(a + 3 * h))\n",
    "    return None\n",
    "  \n",
    "  def __degree_3(self, a, b, f, resolution):\n",
    "    if resolution == 'fechada':\n",
    "      h = (b - a) / 3\n",
    "      return (3 * h / 8) * (f(a) + 3 * f(a + h) + 3 * f(a + 2 * h) + f(b))\n",
    "  \n",
    "    if resolution == 'aberta':\n",
    "      h = (b - a ) / 5\n",
    "      return ((b-a)/24)*(11*f(a+h) + f(a+2*h) + f(a+3*h) + 11*f(a+4*h))\n",
    "    return None\n",
    "  \n",
    "  def __degree_4(self, a, b, f, resolution):\n",
    "    if resolution == 'fechada':\n",
    "      h = (b - a) / 4\n",
    "      return ((b - a)/90)*(7*f(a) + 32*f(a + h) + 12*f(a + 2*h)+ 32*f(a + 3*h) +7*f(b))\n",
    "  \n",
    "    if resolution == 'aberta':\n",
    "      h = (b - a ) / 6\n",
    "      return ((b-a)/20)*(11*f(a+h) - 14*f(a+2*h) + 26*f(a+3*h) - 14*f(a+4*h) + 11*f(a+5*h))\n",
    "    return None\n",
    "  \n",
    "  def __error(self, a, b):\n",
    "    if a == 0:\n",
    "      return abs(a - b)\n",
    "    return (b - a)/a"
   ]
  },
  {
   "cell_type": "markdown",
   "metadata": {
    "colab_type": "text",
    "id": "Gaai6QhCYLND"
   },
   "source": [
    "# Método Exponencial"
   ]
  },
  {
   "cell_type": "code",
   "execution_count": 0,
   "metadata": {
    "colab": {},
    "colab_type": "code",
    "id": "WiTqVKvczapT"
   },
   "outputs": [],
   "source": [
    "def variableSimpleChange(a, b, s):\n",
    "  return (b - a) / 2 + (a + b) * (tanh(s)) / 2"
   ]
  },
  {
   "cell_type": "code",
   "execution_count": 0,
   "metadata": {
    "colab": {},
    "colab_type": "code",
    "id": "YXfuo5wozcfm"
   },
   "outputs": [],
   "source": [
    "def variableDobleChange(a, b, s):\n",
    "  return (b - a) / 2 + (a + b) * (tanh(pi * senh(s) / 2)) / 2"
   ]
  },
  {
   "cell_type": "code",
   "execution_count": 0,
   "metadata": {
    "colab": {},
    "colab_type": "code",
    "id": "h9lAYtg2NPku"
   },
   "outputs": [],
   "source": [
    "class Exponencial():\n",
    "  def __init__(self, f, degree, resolution,):\n",
    "    self.__function = f\n",
    "    self.\n",
    "    \n",
    "  def solve(self, a, b, degree,, resolution):\n",
    "    function = self.__function\n",
    "    N = degree\n",
    "    if resolution == 'simples':\n",
    "      \n",
    "    if resolution == 'dupla':\n",
    "      \n",
    "    return None"
   ]
  },
  {
   "cell_type": "markdown",
   "metadata": {
    "colab_type": "text",
    "id": "XecB1mRrYFK9"
   },
   "source": [
    "# Funções"
   ]
  },
  {
   "cell_type": "code",
   "execution_count": 0,
   "metadata": {
    "colab": {},
    "colab_type": "code",
    "id": "CDN1w6JJUZah"
   },
   "outputs": [],
   "source": [
    "flinear = lambda x : x\n",
    "fquad = lambda x : x**2\n",
    "flouco = lambda x : x**3 + 38 * x + 1\n",
    "fsin = lambda x : sin(x)\n",
    "flinearmodulo = lambda x : abs(x)\n",
    "fexemplo = lambda x : sqrt(1 + x**2)"
   ]
  },
  {
   "cell_type": "markdown",
   "metadata": {
    "colab_type": "text",
    "id": "DKoJM7zLYHJz"
   },
   "source": [
    "# Valores"
   ]
  },
  {
   "cell_type": "code",
   "execution_count": 0,
   "metadata": {
    "colab": {},
    "colab_type": "code",
    "id": "tDRUhIqLUe2R"
   },
   "outputs": [],
   "source": [
    "degree = 4                    # 2, 3 or 4 Points of Chebyshev\n",
    "function = fquad              # Function to integrate"
   ]
  },
  {
   "cell_type": "markdown",
   "metadata": {
    "colab_type": "text",
    "id": "uFBRAkP0YJFx"
   },
   "source": [
    "# Resultados"
   ]
  },
  {
   "cell_type": "code",
   "execution_count": 0,
   "metadata": {
    "colab": {
     "base_uri": "https://localhost:8080/",
     "height": 34
    },
    "colab_type": "code",
    "executionInfo": {
     "elapsed": 928,
     "status": "ok",
     "timestamp": 1562035629380,
     "user": {
      "displayName": "Daniel Nogueira",
      "photoUrl": "",
      "userId": "00824541409552341256"
     },
     "user_tz": 180
    },
    "id": "_UpVZbiqURAG",
    "outputId": "c8fabce5-265b-418c-8aad-2a4aec99379e"
   },
   "outputs": [
    {
     "name": "stdout",
     "output_type": "stream",
     "text": [
      "Integração nos intervalos [-1, 1] com 4 pontos de Chebyshev: 1.5707963267948966\n"
     ]
    }
   ],
   "source": [
    "f = GaussChebyshev(function)\n",
    "result = f.solve(degree)\n",
    "print(f\"Integração nos intervalos [-1, 1] com {degree} pontos de Chebyshev: {result}\")"
   ]
  }
 ],
 "metadata": {
  "colab": {
   "collapsed_sections": [],
   "name": "???Exponencial.ipynb",
   "provenance": [],
   "version": "0.3.2"
  },
  "kernelspec": {
   "display_name": "Python 3",
   "language": "python",
   "name": "python3"
  },
  "language_info": {
   "codemirror_mode": {
    "name": "ipython",
    "version": 3
   },
   "file_extension": ".py",
   "mimetype": "text/x-python",
   "name": "python",
   "nbconvert_exporter": "python",
   "pygments_lexer": "ipython3",
   "version": "3.7.3"
  }
 },
 "nbformat": 4,
 "nbformat_minor": 1
}
