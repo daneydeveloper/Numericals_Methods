{
 "cells": [
  {
   "cell_type": "markdown",
   "metadata": {
    "colab_type": "text",
    "id": "k1ghuC5yYPe4"
   },
   "source": [
    "# Importações"
   ]
  },
  {
   "cell_type": "code",
   "execution_count": 0,
   "metadata": {
    "colab": {},
    "colab_type": "code",
    "id": "vZ7ajadhYKN4"
   },
   "outputs": [],
   "source": [
    "from math import cos\n",
    "from math import sin\n",
    "from math import tan\n",
    "from math import acos\n",
    "from math import asin\n",
    "from math import atan\n",
    "from math import pi\n",
    "from math import exp\n",
    "from math import sqrt"
   ]
  },
  {
   "cell_type": "markdown",
   "metadata": {
    "colab_type": "text",
    "id": "qj2ERWLeqXEo"
   },
   "source": [
    "# Operações Básica"
   ]
  },
  {
   "cell_type": "code",
   "execution_count": 0,
   "metadata": {
    "colab": {},
    "colab_type": "code",
    "id": "ygBhAuLyqWkv"
   },
   "outputs": [],
   "source": [
    "def norm2(x):\n",
    "    value = 0\n",
    "    for i in x:\n",
    "        value += i*i\n",
    "    return sqrt(value)"
   ]
  },
  {
   "cell_type": "code",
   "execution_count": 0,
   "metadata": {
    "colab": {},
    "colab_type": "code",
    "id": "-EHVjspvqoct"
   },
   "outputs": [],
   "source": [
    "def matrixByVector(a,b):\n",
    "    n = len(a)\n",
    "    vector = []\n",
    "    for i in range(n):\n",
    "        som = 0.0\n",
    "        for j in range(n):\n",
    "            som += a[i][j] * b[j] \n",
    "        vector.append(som)\n",
    "    return vector"
   ]
  },
  {
   "cell_type": "code",
   "execution_count": 0,
   "metadata": {
    "colab": {},
    "colab_type": "code",
    "id": "U0QLlcHiqqRq"
   },
   "outputs": [],
   "source": [
    "def vectorByVector(a,b):\n",
    "    n = len(a)\n",
    "    som = 0\n",
    "    for i in range(n):\n",
    "        som += a[i] * b[i]\n",
    "    return som"
   ]
  },
  {
   "cell_type": "code",
   "execution_count": 0,
   "metadata": {
    "colab": {},
    "colab_type": "code",
    "id": "M72JagBIqrSv"
   },
   "outputs": [],
   "source": [
    "def div(a,b):\n",
    "    n = len(a)\n",
    "    vec = [0 for i in range(n)]\n",
    "    for i in range(n):\n",
    "        vec[i] = a[i]/b\n",
    "    return vec"
   ]
  },
  {
   "cell_type": "markdown",
   "metadata": {
    "colab_type": "text",
    "id": "Gaai6QhCYLND"
   },
   "source": [
    "# Método da Potência Regular"
   ]
  },
  {
   "cell_type": "code",
   "execution_count": 0,
   "metadata": {
    "colab": {},
    "colab_type": "code",
    "id": "h9lAYtg2NPku"
   },
   "outputs": [],
   "source": [
    "def potenciaRegular(A, e, x0):\n",
    "    lamb_new = 0\n",
    "    x_old = div(x0,norm2(x0))\n",
    "    iterations = 0\n",
    "    while True:\n",
    "        iterations += 1\n",
    "        lamb_old = lamb_new\n",
    "        y_new = matrixByVector(A, x_old)\n",
    "        x_new = div(y_new,norm2(y_new))\n",
    "        lamb_new  = vectorByVector(x_old, y_new)\n",
    "        x_old = x_new\n",
    "        if(abs((lamb_new - lamb_old) / lamb_new) <= e):\n",
    "            break\n",
    "    return [lamb_new, x_new]"
   ]
  },
  {
   "cell_type": "markdown",
   "metadata": {
    "colab_type": "text",
    "id": "XecB1mRrYFK9"
   },
   "source": [
    "# Matriz, Autovetor de Chute e Tolerância"
   ]
  },
  {
   "cell_type": "code",
   "execution_count": 0,
   "metadata": {
    "colab": {},
    "colab_type": "code",
    "id": "CDN1w6JJUZah"
   },
   "outputs": [],
   "source": [
    "A = [\n",
    "      [37,  4,  3,  3,  3],\n",
    "      [ 4, 21,  8,  3,  7],\n",
    "      [ 3,  8, 56,  6,  6],\n",
    "      [ 3,  3,  6, 36, 11],\n",
    "      [ 3,  7,  6, 11, 57]\n",
    "]\n",
    "\n",
    "x = [1,1,1,1,1]\n",
    "\n",
    "tolerance = 0.000000001"
   ]
  },
  {
   "cell_type": "markdown",
   "metadata": {
    "colab_type": "text",
    "id": "uFBRAkP0YJFx"
   },
   "source": [
    "# Resultados"
   ]
  },
  {
   "cell_type": "code",
   "execution_count": 0,
   "metadata": {
    "colab": {
     "base_uri": "https://localhost:8080/",
     "height": 34
    },
    "colab_type": "code",
    "executionInfo": {
     "elapsed": 1022,
     "status": "ok",
     "timestamp": 1562032661128,
     "user": {
      "displayName": "Daniel Nogueira",
      "photoUrl": "",
      "userId": "00824541409552341256"
     },
     "user_tz": 180
    },
    "id": "_UpVZbiqURAG",
    "outputId": "1ab48096-0b5d-4218-f3e8-4eeafbe43072"
   },
   "outputs": [
    {
     "name": "stdout",
     "output_type": "stream",
     "text": [
      "Integração nos intervalos [0, 10] de grau 3 de forma aberta: 50.0\n"
     ]
    }
   ],
   "source": [
    "auto_valor, auto_vetor = potenciaRegular(A, tolerance, x)\n",
    "print(f\"Autovalor = {auto_valor}\")\n",
    "print(f\"Autovetor = {auto_vetor}\")"
   ]
  }
 ],
 "metadata": {
  "colab": {
   "collapsed_sections": [],
   "name": "Método da Potência Regular.ipynb",
   "provenance": [],
   "version": "0.3.2"
  },
  "kernelspec": {
   "display_name": "Python 3",
   "language": "python",
   "name": "python3"
  },
  "language_info": {
   "codemirror_mode": {
    "name": "ipython",
    "version": 3
   },
   "file_extension": ".py",
   "mimetype": "text/x-python",
   "name": "python",
   "nbconvert_exporter": "python",
   "pygments_lexer": "ipython3",
   "version": "3.7.3"
  }
 },
 "nbformat": 4,
 "nbformat_minor": 1
}
